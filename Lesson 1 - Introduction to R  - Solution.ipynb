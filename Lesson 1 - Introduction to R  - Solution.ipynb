{
 "cells": [
  {
   "cell_type": "markdown",
   "metadata": {},
   "source": [
    "# Introduction to R"
   ]
  },
  {
   "cell_type": "markdown",
   "metadata": {},
   "source": [
    "<img src=\"https://i.imgur.com/HeSzToG.png\" width=400 align=\"center\">"
   ]
  },
  {
   "cell_type": "markdown",
   "metadata": {},
   "source": [
    "# Contents\n",
    "1. CRISP DM\n",
    "2. What is R used for? \n",
    "3. Downloading Anaconda \n",
    "4. IDEs for R \n",
    "5. Basics of Jupyter Notebook\n",
    "6. File Types \n",
    "7. Data Terminology\n",
    "8. Installing and adding packages \n",
    "9. Importing Data \n",
    "10. Displaying Data "
   ]
  },
  {
   "cell_type": "markdown",
   "metadata": {},
   "source": [
    "## 1. CRISP DM \n"
   ]
  },
  {
   "cell_type": "markdown",
   "metadata": {},
   "source": [
    "<img src='https://st3.ning.com/topology/rest/1.0/file/get/2808314343?profile=original' width=400 align = 'center'>"
   ]
  },
  {
   "cell_type": "markdown",
   "metadata": {},
   "source": [
    "<p style=\"text-align:center;\"><font size=\"2\"> <i>A useful codification of the data mining process is given by the Cross Industry Standard Process for Data Mining\n",
    "(CRISP-DM; Shearer, 2000)</i> </font> </p>"
   ]
  },
  {
   "cell_type": "markdown",
   "metadata": {},
   "source": [
    "- <b>Business Understanding</b> <br> \n",
    " - Framing a business problem in terms of expected value can allow us to systematically decompose it into data mining tasks. \n",
    "- <b>Data Understanding</b> <br> \n",
    " - Understanding the strengths and limitations of the data because there is rarely an exact match with the problem <br>\n",
    " - Purchasing or obtaining data <br>\n",
    " - Identifying and understanding variables to use \n",
    "- <b>Data Preparation</b> <br> \n",
    " - Removing missing values\n",
    " - Sorting, replacing, filtering, grouping, mapping data\n",
    " - Adding variables from other datasets \n",
    "- <b>Modeling</b> <br>\n",
    " - Machine Learning\n",
    "- <b>Evaluation</b> <br> \n",
    " - Assessing the data mining results rigorously to gain confidence that they are valid and reliable\n",
    "- <b>Deployment</b> <br> \n",
    " - Implementing the model into the business process"
   ]
  },
  {
   "cell_type": "code",
   "execution_count": 3,
   "metadata": {},
   "outputs": [],
   "source": [
    "library(datasets)\n",
    "library(help = \"datasets\")"
   ]
  },
  {
   "cell_type": "code",
   "execution_count": 4,
   "metadata": {},
   "outputs": [
    {
     "name": "stdout",
     "output_type": "stream",
     "text": [
      "'data.frame':\t150 obs. of  5 variables:\n",
      " $ Sepal.Length: num  5.1 4.9 4.7 4.6 5 5.4 4.6 5 4.4 4.9 ...\n",
      " $ Sepal.Width : num  3.5 3 3.2 3.1 3.6 3.9 3.4 3.4 2.9 3.1 ...\n",
      " $ Petal.Length: num  1.4 1.4 1.3 1.5 1.4 1.7 1.4 1.5 1.4 1.5 ...\n",
      " $ Petal.Width : num  0.2 0.2 0.2 0.2 0.2 0.4 0.3 0.2 0.2 0.1 ...\n",
      " $ Species     : Factor w/ 3 levels \"setosa\",\"versicolor\",..: 1 1 1 1 1 1 1 1 1 1 ...\n"
     ]
    }
   ],
   "source": [
    "str(iris)"
   ]
  },
  {
   "cell_type": "markdown",
   "metadata": {},
   "source": [
    "# 2. What is R used for? "
   ]
  },
  {
   "cell_type": "code",
   "execution_count": 5,
   "metadata": {},
   "outputs": [],
   "source": [
    "# Notes \n",
    "# Data cleaning \n",
    "# Modeling \n",
    "# Comparison to Python "
   ]
  },
  {
   "cell_type": "markdown",
   "metadata": {},
   "source": [
    "\n",
    "#  3. Downloading Anaconda"
   ]
  },
  {
   "cell_type": "markdown",
   "metadata": {},
   "source": [
    "- Downloading Anaconda <br> \n",
    "https://www.anaconda.com/distribution/ <br>\n",
    "- Adding R into Anaconda <br> \n",
    "https://docs.anaconda.com/anaconda/navigator/tutorials/r-lang/"
   ]
  },
  {
   "cell_type": "markdown",
   "metadata": {},
   "source": [
    "# 4. Comparison between Python & R"
   ]
  },
  {
   "cell_type": "markdown",
   "metadata": {},
   "source": [
    "| Parameter | R | Python | \n",
    "|------|:------|:------|\n",
    "| Objective | Data Analysis and Statistical Modeling | Data Science, Web Development, Embedded Systems |\n",
    "| Workability | Consist of many easy to use packages | Can easily perform matrix computation as well as optimization | \n",
    "| Integration | Locally run programs | Programs integrated with web-app for easy deployment | \n",
    "| Database Handling Capacity | Poses problem for handling large dataset | Can handle large data easily without any fault | \n",
    "| IDE | RStudio, R GUI | Spyder, IPython, Juypter Notebook | \n",
    "| Essential Packages and library | ggplot2, tidyverse, caret | Numpy, pandas, scipy, scikit-learn, Tensorflow | "
   ]
  },
  {
   "cell_type": "markdown",
   "metadata": {},
   "source": [
    "# 5. Basics of Juypter Notebook"
   ]
  },
  {
   "cell_type": "markdown",
   "metadata": {},
   "source": [
    "- <b>Restarting Kernel </b> \n",
    " - Kernel > Restart \n",
    "- <b>Running cells </b>\n",
    " - Cell > Run All \n",
    "- <b>Code vs. Markdown </b>\n",
    " - Markdown has its roots in HTML \n",
    " - Markdown is for formatting and commenting "
   ]
  },
  {
   "cell_type": "markdown",
   "metadata": {},
   "source": [
    "| Shortcut | Description |\n",
    "|------|:------|\n",
    "| Tab | Code Completion |\n",
    "| a | Insert cell above |\n",
    "| b | Insert cell below |\n",
    "| Enter | Edit cell |\n",
    "| d + d | Delete cell | \n",
    "| Shift + Enter | Run individual cell | \n",
    "| Esc + M | Change to Markdown | \n",
    "| Ctrl + Shift + ← | Highlight group of words | \n",
    "| Ctrl + Backspace | Delete word by word | \n",
    "| Ctrl + / | Make comment |"
   ]
  },
  {
   "cell_type": "code",
   "execution_count": 6,
   "metadata": {},
   "outputs": [],
   "source": [
    "# Test box "
   ]
  },
  {
   "cell_type": "markdown",
   "metadata": {},
   "source": [
    "# Header 1 \n",
    "## Header 2 \n",
    "### Header 3 \n",
    "#### Header 4 \n",
    "<b> bold text </b> <br> \n",
    "<i> italicized text </i> <br> \n",
    "<br> newline <br>\n",
    "- bullet point <br> \n",
    "\n",
    "<p> Lorem ipsum dolor sit amet, consectetur adipiscing elit, sed do eiusmod tempor incididunt ut labore et dolore magna aliqua. In ante metus dictum at tempor commodo ullamcorper a lacus. Lorem mollis aliquam ut porttitor leo a diam. Neque aliquam vestibulum morbi blandit cursus. Nunc faucibus a pellentesque sit amet porttitor. Id semper risus in hendrerit gravida rutrum quisque non tellus. Proin nibh nisl condimentum id venenatis a condimentum vitae sapien. Aliquet nec ullamcorper sit amet risus nullam eget. Augue eget arcu dictum varius. Donec ac odio tempor orci dapibus ultrices in iaculis. Diam sit amet nisl suscipit adipiscing bibendum est ultricies integer. </p> <p> Leo duis ut diam quam nulla. Tellus at urna condimentum mattis pellentesque id nibh. Proin fermentum leo vel orci. Mi sit amet mauris commodo quis imperdiet massa tincidunt nunc. Venenatis cras sed felis eget velit aliquet sagittis id consectetur. Fringilla urna porttitor rhoncus dolor purus non enim praesent. Consectetur purus ut faucibus pulvinar elementum integer enim neque. Ullamcorper malesuada proin libero nunc consequat interdum varius sit amet. Nibh praesent tristique magna sit amet purus. Egestas maecenas pharetra convallis posuere. Sed faucibus turpis in eu mi bibendum neque egestas. Pharetra diam sit amet nisl suscipit. Sed pulvinar proin gravida hendrerit. Risus at ultrices mi tempus imperdiet nulla malesuada pellentesque elit. Malesuada bibendum arcu vitae elementum curabitur. Cursus mattis molestie a iaculis at erat pellentesque. Pellentesque sit amet porttitor eget dolor morbi non. Lacus suspendisse faucibus interdum posuere lorem ipsum dolor sit. Tempor nec feugiat nisl pretium fusce id velit. Viverra justo nec ultrices dui sapien eget mi proin. </p> "
   ]
  },
  {
   "cell_type": "markdown",
   "metadata": {},
   "source": [
    "## Exercise 1: Using Markdown "
   ]
  },
  {
   "cell_type": "markdown",
   "metadata": {},
   "source": [
    "Format the below text using Markdown "
   ]
  },
  {
   "cell_type": "markdown",
   "metadata": {},
   "source": [
    "### RStudio"
   ]
  },
  {
   "cell_type": "markdown",
   "metadata": {},
   "source": [
    "RStudio is an <b>integrated development environment</b> (IDE) that streamlines the R programming workflow into an easy to read layout. RStudio also includes useful tools (referred to as packages) for data manipulation (dplyr), cleaning (tidyr), visualizations (ggplot2), report writing (rmarkdown & knitr), and publishing to the web (shiny & ggviz)."
   ]
  },
  {
   "cell_type": "markdown",
   "metadata": {},
   "source": [
    "# 6. File Types"
   ]
  },
  {
   "cell_type": "markdown",
   "metadata": {},
   "source": [
    "- comma separated values (.csv)\n",
    "- rdata. \n",
    "- Microsoft Excel Open XML Spreadsheet (.xlsx)"
   ]
  },
  {
   "cell_type": "markdown",
   "metadata": {},
   "source": [
    "# 7. Data Terminology"
   ]
  },
  {
   "cell_type": "markdown",
   "metadata": {},
   "source": [
    "https://swcarpentry.github.io/r-novice-inflammation/13-supp-data-structures/"
   ]
  },
  {
   "cell_type": "markdown",
   "metadata": {},
   "source": [
    "- Data > Dataset > Database \n",
    "- Vector > List > DataFrame  \n",
    "- Observations & Variables\n",
    "- Levels \n",
    "- Libraries / Packages "
   ]
  },
  {
   "cell_type": "markdown",
   "metadata": {},
   "source": [
    "## Exercise 2: Creating vectors "
   ]
  },
  {
   "cell_type": "markdown",
   "metadata": {},
   "source": [
    "Create a vector with 2 elements A and B and store in ```grade``` "
   ]
  },
  {
   "cell_type": "code",
   "execution_count": 7,
   "metadata": {},
   "outputs": [],
   "source": [
    "# Answer here\n",
    "# After part 10 then back here"
   ]
  },
  {
   "cell_type": "markdown",
   "metadata": {},
   "source": [
    "# 8. Installing and adding packages"
   ]
  },
  {
   "cell_type": "code",
   "execution_count": null,
   "metadata": {},
   "outputs": [],
   "source": [
    "install.packages('something')"
   ]
  },
  {
   "cell_type": "code",
   "execution_count": null,
   "metadata": {},
   "outputs": [],
   "source": [
    "library(something)"
   ]
  },
  {
   "cell_type": "markdown",
   "metadata": {},
   "source": [
    "## Exercise 3: Importing packages "
   ]
  },
  {
   "cell_type": "markdown",
   "metadata": {},
   "source": [
    "Import dplyr, tidyr, ggplot "
   ]
  },
  {
   "cell_type": "code",
   "execution_count": 9,
   "metadata": {},
   "outputs": [],
   "source": [
    "library(dplyr)\n",
    "library(tidyr)\n",
    "library(ggplot2)"
   ]
  },
  {
   "cell_type": "markdown",
   "metadata": {},
   "source": [
    "# 9. Reading documentation"
   ]
  },
  {
   "cell_type": "markdown",
   "metadata": {},
   "source": [
    "https://www.rdocumentation.org/packages/readxl/versions/1.3.1/topics/read_excel"
   ]
  },
  {
   "cell_type": "markdown",
   "metadata": {},
   "source": [
    "- Default values \n",
    "- Checking the package name \n",
    "- Importing package"
   ]
  },
  {
   "cell_type": "code",
   "execution_count": 10,
   "metadata": {},
   "outputs": [],
   "source": [
    "library(readxl)"
   ]
  },
  {
   "cell_type": "markdown",
   "metadata": {},
   "source": [
    "# 10. Importing Data "
   ]
  },
  {
   "cell_type": "markdown",
   "metadata": {},
   "source": [
    "| Function | What it does | Example | \n",
    "|------|:------|:------|\n",
    "| read.csv() | Read csv file | read.csv('states.csv') |\n",
    "| read_excel() | Read excel file | read_excel('filename.xlsx', sheet = 'Sheet 2') | "
   ]
  },
  {
   "cell_type": "markdown",
   "metadata": {},
   "source": [
    "## Exercise 4: Import csv file"
   ]
  },
  {
   "cell_type": "markdown",
   "metadata": {},
   "source": [
    "Import ```loans-25k.csv``` and store in ```loans_df```"
   ]
  },
  {
   "cell_type": "code",
   "execution_count": 12,
   "metadata": {},
   "outputs": [],
   "source": [
    "# Explain location and backslash \n",
    "# Store in variable \n",
    "loans_df <- read.csv('loans-25k.csv')\n",
    "# Answer here"
   ]
  },
  {
   "cell_type": "markdown",
   "metadata": {},
   "source": [
    "Display the head of ```loans_df```"
   ]
  },
  {
   "cell_type": "code",
   "execution_count": 13,
   "metadata": {},
   "outputs": [
    {
     "data": {
      "text/html": [
       "<table>\n",
       "<thead><tr><th scope=col>id</th><th scope=col>member_id</th><th scope=col>annual_inc</th><th scope=col>home_ownership</th><th scope=col>purpose</th><th scope=col>loan_amnt</th><th scope=col>int_rate</th><th scope=col>term</th><th scope=col>grade</th></tr></thead>\n",
       "<tbody>\n",
       "\t<tr><td>63459002          </td><td>67801839          </td><td>131000            </td><td>MORTGAGE          </td><td>credit_card       </td><td>35000             </td><td> 8.18             </td><td> 36 months        </td><td>B                 </td></tr>\n",
       "\t<tr><td> 2224979          </td><td> 2637150          </td><td>125000            </td><td>MORTGAGE          </td><td>debt_consolidation</td><td>29700             </td><td>15.31             </td><td> 60 months        </td><td>C                 </td></tr>\n",
       "\t<tr><td> 5979460          </td><td> 7451906          </td><td> 36070            </td><td>MORTGAGE          </td><td>debt_consolidation</td><td> 6700             </td><td> 7.90             </td><td> 36 months        </td><td>A                 </td></tr>\n",
       "\t<tr><td>57126822          </td><td>60829645          </td><td> 90000            </td><td>RENT              </td><td>credit_card       </td><td>18000             </td><td> 8.18             </td><td> 60 months        </td><td>B                 </td></tr>\n",
       "\t<tr><td> 1445209          </td><td> 1697667          </td><td> 90000            </td><td>MORTGAGE          </td><td>small_business    </td><td>18000             </td><td> 7.62             </td><td> 36 months        </td><td>A                 </td></tr>\n",
       "\t<tr><td>55078160          </td><td>58648875          </td><td> 50000            </td><td>RENT              </td><td>credit_card       </td><td>10000             </td><td>13.33             </td><td> 36 months        </td><td>C                 </td></tr>\n",
       "</tbody>\n",
       "</table>\n"
      ],
      "text/latex": [
       "\\begin{tabular}{r|lllllllll}\n",
       " id & member\\_id & annual\\_inc & home\\_ownership & purpose & loan\\_amnt & int\\_rate & term & grade\\\\\n",
       "\\hline\n",
       "\t 63459002             & 67801839             & 131000               & MORTGAGE             & credit\\_card        & 35000                &  8.18                &  36 months           & B                   \\\\\n",
       "\t  2224979             &  2637150             & 125000               & MORTGAGE             & debt\\_consolidation & 29700                & 15.31                &  60 months           & C                   \\\\\n",
       "\t  5979460             &  7451906             &  36070               & MORTGAGE             & debt\\_consolidation &  6700                &  7.90                &  36 months           & A                   \\\\\n",
       "\t 57126822             & 60829645             &  90000               & RENT                 & credit\\_card        & 18000                &  8.18                &  60 months           & B                   \\\\\n",
       "\t  1445209             &  1697667             &  90000               & MORTGAGE             & small\\_business     & 18000                &  7.62                &  36 months           & A                   \\\\\n",
       "\t 55078160             & 58648875             &  50000               & RENT                 & credit\\_card        & 10000                & 13.33                &  36 months           & C                   \\\\\n",
       "\\end{tabular}\n"
      ],
      "text/markdown": [
       "\n",
       "| id | member_id | annual_inc | home_ownership | purpose | loan_amnt | int_rate | term | grade |\n",
       "|---|---|---|---|---|---|---|---|---|\n",
       "| 63459002           | 67801839           | 131000             | MORTGAGE           | credit_card        | 35000              |  8.18              |  36 months         | B                  |\n",
       "|  2224979           |  2637150           | 125000             | MORTGAGE           | debt_consolidation | 29700              | 15.31              |  60 months         | C                  |\n",
       "|  5979460           |  7451906           |  36070             | MORTGAGE           | debt_consolidation |  6700              |  7.90              |  36 months         | A                  |\n",
       "| 57126822           | 60829645           |  90000             | RENT               | credit_card        | 18000              |  8.18              |  60 months         | B                  |\n",
       "|  1445209           |  1697667           |  90000             | MORTGAGE           | small_business     | 18000              |  7.62              |  36 months         | A                  |\n",
       "| 55078160           | 58648875           |  50000             | RENT               | credit_card        | 10000              | 13.33              |  36 months         | C                  |\n",
       "\n"
      ],
      "text/plain": [
       "  id       member_id annual_inc home_ownership purpose            loan_amnt\n",
       "1 63459002 67801839  131000     MORTGAGE       credit_card        35000    \n",
       "2  2224979  2637150  125000     MORTGAGE       debt_consolidation 29700    \n",
       "3  5979460  7451906   36070     MORTGAGE       debt_consolidation  6700    \n",
       "4 57126822 60829645   90000     RENT           credit_card        18000    \n",
       "5  1445209  1697667   90000     MORTGAGE       small_business     18000    \n",
       "6 55078160 58648875   50000     RENT           credit_card        10000    \n",
       "  int_rate term       grade\n",
       "1  8.18     36 months B    \n",
       "2 15.31     60 months C    \n",
       "3  7.90     36 months A    \n",
       "4  8.18     60 months B    \n",
       "5  7.62     36 months A    \n",
       "6 13.33     36 months C    "
      ]
     },
     "metadata": {},
     "output_type": "display_data"
    }
   ],
   "source": [
    "head(loans_df)"
   ]
  },
  {
   "cell_type": "markdown",
   "metadata": {},
   "source": [
    "## Exercise 5: Import excel file "
   ]
  },
  {
   "cell_type": "code",
   "execution_count": 14,
   "metadata": {},
   "outputs": [
    {
     "data": {
      "text/html": [
       "<table>\n",
       "<thead><tr><th scope=col>LABEL</th><th scope=col>DESCRIPTION</th><th scope=col>COMMENTS</th></tr></thead>\n",
       "<tbody>\n",
       "\t<tr><td>Regression                                                                             </td><td>Used to predict data by line of best fit                                               </td><td>NA                                                                                     </td></tr>\n",
       "\t<tr><td>Eqn of Linear Regression Line                                                          </td><td>y = INTERCEPT + SLOPE(X)                                                               </td><td>NA                                                                                     </td></tr>\n",
       "\t<tr><td>Eqn of Exponential Regression Line                                                     </td><td>y = ae(bx)                                                                             </td><td>NA                                                                                     </td></tr>\n",
       "\t<tr><td>Eqn of Logarithmic Regression Line                                                     </td><td>y = aLN(x) + b                                                                         </td><td>Part of the analysis is to find the values of a and b                                  </td></tr>\n",
       "\t<tr><td>Eqn of Power Regression Line                                                           </td><td>y = axb                                                                                </td><td>Part of the analysis is to find the values of a and b                                  </td></tr>\n",
       "\t<tr><td>Residual                                                                               </td><td>Distance from point to regression line                                                 </td><td>NA                                                                                     </td></tr>\n",
       "\t<tr><td>Residual Variance                                                                      </td><td>Variance of residual \r\n",
       "Is also MS(residual)\r\n",
       "Is also (Standard Error of Estimate)^2</td><td>NA                                                                                     </td></tr>\n",
       "\t<tr><td>MS                                                                                     </td><td>Mean Square                                                                            </td><td>NA                                                                                     </td></tr>\n",
       "\t<tr><td>ANOVA                                                                                  </td><td>Analysis of Variance                                                                   </td><td>NA                                                                                     </td></tr>\n",
       "\t<tr><td>Independent variable                                                                   </td><td>What we are manipulating                                                               </td><td>Also known as factor                                                                   </td></tr>\n",
       "\t<tr><td>Dependent variable                                                                     </td><td>What we are measuring                                                                  </td><td>NA                                                                                     </td></tr>\n",
       "\t<tr><td>Null Hypothesis                                                                        </td><td>What you observed is nothing new                                                       </td><td>Factor A does not affect Factor B                                                      </td></tr>\n",
       "\t<tr><td>Alternative Hypothesis                                                                 </td><td>What you observed is new / important                                                   </td><td>Factor A affects Factor B                                                              </td></tr>\n",
       "\t<tr><td>Reject H0                                                                              </td><td>Means something is new                                                                 </td><td>NA                                                                                     </td></tr>\n",
       "\t<tr><td>Not reject H0                                                                          </td><td>Means nothing is new                                                                   </td><td>NA                                                                                     </td></tr>\n",
       "\t<tr><td>t Test                                                                                 </td><td>NA                                                                                     </td><td>NA                                                                                     </td></tr>\n",
       "\t<tr><td>z Test                                                                                 </td><td>Calculates how likely results are due to chance                                        </td><td>NA                                                                                     </td></tr>\n",
       "\t<tr><td>f Test                                                                                 </td><td>NA                                                                                     </td><td>NA                                                                                     </td></tr>\n",
       "\t<tr><td>Chi-sq Test                                                                            </td><td>To test the independence of two nominal variables                                      </td><td>NA                                                                                     </td></tr>\n",
       "\t<tr><td>Central Limit Theorem                                                                  </td><td>NA                                                                                     </td><td>NA                                                                                     </td></tr>\n",
       "\t<tr><td>Matched Samples                                                                        </td><td>NA                                                                                     </td><td>NA                                                                                     </td></tr>\n",
       "\t<tr><td>Bayes Theorem                                                                          </td><td>NA                                                                                     </td><td>NA                                                                                     </td></tr>\n",
       "\t<tr><td>Conditional Probability                                                                </td><td>What are the chances that A will happen given probability of B?                        </td><td>NA                                                                                     </td></tr>\n",
       "\t<tr><td>P - value                                                                              </td><td>NA                                                                                     </td><td>NA                                                                                     </td></tr>\n",
       "</tbody>\n",
       "</table>\n"
      ],
      "text/latex": [
       "\\begin{tabular}{r|lll}\n",
       " LABEL & DESCRIPTION & COMMENTS\\\\\n",
       "\\hline\n",
       "\t Regression                                                                              & Used to predict data by line of best fit                                                & NA                                                                                     \\\\\n",
       "\t Eqn of Linear Regression Line                                                           & y = INTERCEPT + SLOPE(X)                                                                & NA                                                                                     \\\\\n",
       "\t Eqn of Exponential Regression Line                                                      & y = ae(bx)                                                                              & NA                                                                                     \\\\\n",
       "\t Eqn of Logarithmic Regression Line                                                      & y = aLN(x) + b                                                                          & Part of the analysis is to find the values of a and b                                  \\\\\n",
       "\t Eqn of Power Regression Line                                                            & y = axb                                                                                 & Part of the analysis is to find the values of a and b                                  \\\\\n",
       "\t Residual                                                                                & Distance from point to regression line                                                  & NA                                                                                     \\\\\n",
       "\t Residual Variance                                                                                         & Variance of residual \r\n",
       "Is also MS(residual)\r\n",
       "Is also (Standard Error of Estimate)\\textasciicircum{}2 & NA                                                                                                       \\\\\n",
       "\t MS                                                                                      & Mean Square                                                                             & NA                                                                                     \\\\\n",
       "\t ANOVA                                                                                   & Analysis of Variance                                                                    & NA                                                                                     \\\\\n",
       "\t Independent variable                                                                    & What we are manipulating                                                                & Also known as factor                                                                   \\\\\n",
       "\t Dependent variable                                                                      & What we are measuring                                                                   & NA                                                                                     \\\\\n",
       "\t Null Hypothesis                                                                         & What you observed is nothing new                                                        & Factor A does not affect Factor B                                                      \\\\\n",
       "\t Alternative Hypothesis                                                                  & What you observed is new / important                                                    & Factor A affects Factor B                                                              \\\\\n",
       "\t Reject H0                                                                               & Means something is new                                                                  & NA                                                                                     \\\\\n",
       "\t Not reject H0                                                                           & Means nothing is new                                                                    & NA                                                                                     \\\\\n",
       "\t t Test                                                                                  & NA                                                                                      & NA                                                                                     \\\\\n",
       "\t z Test                                                                                  & Calculates how likely results are due to chance                                         & NA                                                                                     \\\\\n",
       "\t f Test                                                                                  & NA                                                                                      & NA                                                                                     \\\\\n",
       "\t Chi-sq Test                                                                             & To test the independence of two nominal variables                                       & NA                                                                                     \\\\\n",
       "\t Central Limit Theorem                                                                   & NA                                                                                      & NA                                                                                     \\\\\n",
       "\t Matched Samples                                                                         & NA                                                                                      & NA                                                                                     \\\\\n",
       "\t Bayes Theorem                                                                           & NA                                                                                      & NA                                                                                     \\\\\n",
       "\t Conditional Probability                                                                 & What are the chances that A will happen given probability of B?                         & NA                                                                                     \\\\\n",
       "\t P - value                                                                               & NA                                                                                      & NA                                                                                     \\\\\n",
       "\\end{tabular}\n"
      ],
      "text/markdown": [
       "\n",
       "| LABEL | DESCRIPTION | COMMENTS |\n",
       "|---|---|---|\n",
       "| Regression                                                                              | Used to predict data by line of best fit                                                | NA                                                                                      |\n",
       "| Eqn of Linear Regression Line                                                           | y = INTERCEPT + SLOPE(X)                                                                | NA                                                                                      |\n",
       "| Eqn of Exponential Regression Line                                                      | y = ae(bx)                                                                              | NA                                                                                      |\n",
       "| Eqn of Logarithmic Regression Line                                                      | y = aLN(x) + b                                                                          | Part of the analysis is to find the values of a and b                                   |\n",
       "| Eqn of Power Regression Line                                                            | y = axb                                                                                 | Part of the analysis is to find the values of a and b                                   |\n",
       "| Residual                                                                                | Distance from point to regression line                                                  | NA                                                                                      |\n",
       "| Residual Variance                                                                       | Variance of residual \r\n",
       "Is also MS(residual)\r\n",
       "Is also (Standard Error of Estimate)^2 | NA                                                                                      |\n",
       "| MS                                                                                      | Mean Square                                                                             | NA                                                                                      |\n",
       "| ANOVA                                                                                   | Analysis of Variance                                                                    | NA                                                                                      |\n",
       "| Independent variable                                                                    | What we are manipulating                                                                | Also known as factor                                                                    |\n",
       "| Dependent variable                                                                      | What we are measuring                                                                   | NA                                                                                      |\n",
       "| Null Hypothesis                                                                         | What you observed is nothing new                                                        | Factor A does not affect Factor B                                                       |\n",
       "| Alternative Hypothesis                                                                  | What you observed is new / important                                                    | Factor A affects Factor B                                                               |\n",
       "| Reject H0                                                                               | Means something is new                                                                  | NA                                                                                      |\n",
       "| Not reject H0                                                                           | Means nothing is new                                                                    | NA                                                                                      |\n",
       "| t Test                                                                                  | NA                                                                                      | NA                                                                                      |\n",
       "| z Test                                                                                  | Calculates how likely results are due to chance                                         | NA                                                                                      |\n",
       "| f Test                                                                                  | NA                                                                                      | NA                                                                                      |\n",
       "| Chi-sq Test                                                                             | To test the independence of two nominal variables                                       | NA                                                                                      |\n",
       "| Central Limit Theorem                                                                   | NA                                                                                      | NA                                                                                      |\n",
       "| Matched Samples                                                                         | NA                                                                                      | NA                                                                                      |\n",
       "| Bayes Theorem                                                                           | NA                                                                                      | NA                                                                                      |\n",
       "| Conditional Probability                                                                 | What are the chances that A will happen given probability of B?                         | NA                                                                                      |\n",
       "| P - value                                                                               | NA                                                                                      | NA                                                                                      |\n",
       "\n"
      ],
      "text/plain": [
       "   LABEL                             \n",
       "1  Regression                        \n",
       "2  Eqn of Linear Regression Line     \n",
       "3  Eqn of Exponential Regression Line\n",
       "4  Eqn of Logarithmic Regression Line\n",
       "5  Eqn of Power Regression Line      \n",
       "6  Residual                          \n",
       "7  Residual Variance                 \n",
       "8  MS                                \n",
       "9  ANOVA                             \n",
       "10 Independent variable              \n",
       "11 Dependent variable                \n",
       "12 Null Hypothesis                   \n",
       "13 Alternative Hypothesis            \n",
       "14 Reject H0                         \n",
       "15 Not reject H0                     \n",
       "16 t Test                            \n",
       "17 z Test                            \n",
       "18 f Test                            \n",
       "19 Chi-sq Test                       \n",
       "20 Central Limit Theorem             \n",
       "21 Matched Samples                   \n",
       "22 Bayes Theorem                     \n",
       "23 Conditional Probability           \n",
       "24 P - value                         \n",
       "   DESCRIPTION                                                                            \n",
       "1  Used to predict data by line of best fit                                               \n",
       "2  y = INTERCEPT + SLOPE(X)                                                               \n",
       "3  y = ae(bx)                                                                             \n",
       "4  y = aLN(x) + b                                                                         \n",
       "5  y = axb                                                                                \n",
       "6  Distance from point to regression line                                                 \n",
       "7  Variance of residual \\r\\nIs also MS(residual)\\r\\nIs also (Standard Error of Estimate)^2\n",
       "8  Mean Square                                                                            \n",
       "9  Analysis of Variance                                                                   \n",
       "10 What we are manipulating                                                               \n",
       "11 What we are measuring                                                                  \n",
       "12 What you observed is nothing new                                                       \n",
       "13 What you observed is new / important                                                   \n",
       "14 Means something is new                                                                 \n",
       "15 Means nothing is new                                                                   \n",
       "16 NA                                                                                     \n",
       "17 Calculates how likely results are due to chance                                        \n",
       "18 NA                                                                                     \n",
       "19 To test the independence of two nominal variables                                      \n",
       "20 NA                                                                                     \n",
       "21 NA                                                                                     \n",
       "22 NA                                                                                     \n",
       "23 What are the chances that A will happen given probability of B?                        \n",
       "24 NA                                                                                     \n",
       "   COMMENTS                                             \n",
       "1  NA                                                   \n",
       "2  NA                                                   \n",
       "3  NA                                                   \n",
       "4  Part of the analysis is to find the values of a and b\n",
       "5  Part of the analysis is to find the values of a and b\n",
       "6  NA                                                   \n",
       "7  NA                                                   \n",
       "8  NA                                                   \n",
       "9  NA                                                   \n",
       "10 Also known as factor                                 \n",
       "11 NA                                                   \n",
       "12 Factor A does not affect Factor B                    \n",
       "13 Factor A affects Factor B                            \n",
       "14 NA                                                   \n",
       "15 NA                                                   \n",
       "16 NA                                                   \n",
       "17 NA                                                   \n",
       "18 NA                                                   \n",
       "19 NA                                                   \n",
       "20 NA                                                   \n",
       "21 NA                                                   \n",
       "22 NA                                                   \n",
       "23 NA                                                   \n",
       "24 NA                                                   "
      ]
     },
     "metadata": {},
     "output_type": "display_data"
    }
   ],
   "source": [
    "terminology <- read_excel('excel_cheatsheet_copy.xlsx', sheet = 2)\n",
    "terminology"
   ]
  },
  {
   "cell_type": "markdown",
   "metadata": {},
   "source": [
    "# 11. Displaying Data"
   ]
  },
  {
   "cell_type": "markdown",
   "metadata": {},
   "source": [
    "Checking data type of each column and shape of column"
   ]
  },
  {
   "cell_type": "code",
   "execution_count": 15,
   "metadata": {},
   "outputs": [
    {
     "name": "stdout",
     "output_type": "stream",
     "text": [
      "'data.frame':\t150 obs. of  5 variables:\n",
      " $ Sepal.Length: num  5.1 4.9 4.7 4.6 5 5.4 4.6 5 4.4 4.9 ...\n",
      " $ Sepal.Width : num  3.5 3 3.2 3.1 3.6 3.9 3.4 3.4 2.9 3.1 ...\n",
      " $ Petal.Length: num  1.4 1.4 1.3 1.5 1.4 1.7 1.4 1.5 1.4 1.5 ...\n",
      " $ Petal.Width : num  0.2 0.2 0.2 0.2 0.2 0.4 0.3 0.2 0.2 0.1 ...\n",
      " $ Species     : Factor w/ 3 levels \"setosa\",\"versicolor\",..: 1 1 1 1 1 1 1 1 1 1 ...\n"
     ]
    }
   ],
   "source": [
    "# str\n",
    "str(iris)"
   ]
  },
  {
   "cell_type": "markdown",
   "metadata": {},
   "source": [
    "Better version of str() from dplyr"
   ]
  },
  {
   "cell_type": "code",
   "execution_count": 16,
   "metadata": {},
   "outputs": [
    {
     "name": "stdout",
     "output_type": "stream",
     "text": [
      "Observations: 150\n",
      "Variables: 5\n",
      "$ Sepal.Length <dbl> 5.1, 4.9, 4.7, 4.6, 5.0, 5.4, 4.6, 5.0, 4.4, 4.9, 5.4,...\n",
      "$ Sepal.Width  <dbl> 3.5, 3.0, 3.2, 3.1, 3.6, 3.9, 3.4, 3.4, 2.9, 3.1, 3.7,...\n",
      "$ Petal.Length <dbl> 1.4, 1.4, 1.3, 1.5, 1.4, 1.7, 1.4, 1.5, 1.4, 1.5, 1.5,...\n",
      "$ Petal.Width  <dbl> 0.2, 0.2, 0.2, 0.2, 0.2, 0.4, 0.3, 0.2, 0.2, 0.1, 0.2,...\n",
      "$ Species      <fct> setosa, setosa, setosa, setosa, setosa, setosa, setosa...\n"
     ]
    }
   ],
   "source": [
    "# glimpse\n",
    "glimpse(iris)"
   ]
  },
  {
   "cell_type": "markdown",
   "metadata": {},
   "source": [
    "Summary of dataset "
   ]
  },
  {
   "cell_type": "code",
   "execution_count": 17,
   "metadata": {},
   "outputs": [
    {
     "data": {
      "text/plain": [
       "  Sepal.Length    Sepal.Width     Petal.Length    Petal.Width   \n",
       " Min.   :4.300   Min.   :2.000   Min.   :1.000   Min.   :0.100  \n",
       " 1st Qu.:5.100   1st Qu.:2.800   1st Qu.:1.600   1st Qu.:0.300  \n",
       " Median :5.800   Median :3.000   Median :4.350   Median :1.300  \n",
       " Mean   :5.843   Mean   :3.057   Mean   :3.758   Mean   :1.199  \n",
       " 3rd Qu.:6.400   3rd Qu.:3.300   3rd Qu.:5.100   3rd Qu.:1.800  \n",
       " Max.   :7.900   Max.   :4.400   Max.   :6.900   Max.   :2.500  \n",
       "       Species  \n",
       " setosa    :50  \n",
       " versicolor:50  \n",
       " virginica :50  \n",
       "                \n",
       "                \n",
       "                "
      ]
     },
     "metadata": {},
     "output_type": "display_data"
    }
   ],
   "source": [
    "# summary\n",
    "summary(iris)"
   ]
  },
  {
   "cell_type": "markdown",
   "metadata": {},
   "source": [
    "Checking shape of dataframe"
   ]
  },
  {
   "cell_type": "code",
   "execution_count": 18,
   "metadata": {},
   "outputs": [
    {
     "data": {
      "text/html": [
       "<ol class=list-inline>\n",
       "\t<li>150</li>\n",
       "\t<li>5</li>\n",
       "</ol>\n"
      ],
      "text/latex": [
       "\\begin{enumerate*}\n",
       "\\item 150\n",
       "\\item 5\n",
       "\\end{enumerate*}\n"
      ],
      "text/markdown": [
       "1. 150\n",
       "2. 5\n",
       "\n",
       "\n"
      ],
      "text/plain": [
       "[1] 150   5"
      ]
     },
     "metadata": {},
     "output_type": "display_data"
    }
   ],
   "source": [
    "# dim\n",
    "dim(iris)"
   ]
  },
  {
   "cell_type": "markdown",
   "metadata": {},
   "source": [
    "Showing dataset"
   ]
  },
  {
   "cell_type": "code",
   "execution_count": 19,
   "metadata": {},
   "outputs": [
    {
     "data": {
      "text/html": [
       "<table>\n",
       "<thead><tr><th scope=col>Sepal.Length</th><th scope=col>Sepal.Width</th><th scope=col>Petal.Length</th><th scope=col>Petal.Width</th><th scope=col>Species</th></tr></thead>\n",
       "<tbody>\n",
       "\t<tr><td>5.1   </td><td>3.5   </td><td>1.4   </td><td>0.2   </td><td>setosa</td></tr>\n",
       "\t<tr><td>4.9   </td><td>3.0   </td><td>1.4   </td><td>0.2   </td><td>setosa</td></tr>\n",
       "\t<tr><td>4.7   </td><td>3.2   </td><td>1.3   </td><td>0.2   </td><td>setosa</td></tr>\n",
       "\t<tr><td>4.6   </td><td>3.1   </td><td>1.5   </td><td>0.2   </td><td>setosa</td></tr>\n",
       "\t<tr><td>5.0   </td><td>3.6   </td><td>1.4   </td><td>0.2   </td><td>setosa</td></tr>\n",
       "\t<tr><td>5.4   </td><td>3.9   </td><td>1.7   </td><td>0.4   </td><td>setosa</td></tr>\n",
       "\t<tr><td>4.6   </td><td>3.4   </td><td>1.4   </td><td>0.3   </td><td>setosa</td></tr>\n",
       "\t<tr><td>5.0   </td><td>3.4   </td><td>1.5   </td><td>0.2   </td><td>setosa</td></tr>\n",
       "\t<tr><td>4.4   </td><td>2.9   </td><td>1.4   </td><td>0.2   </td><td>setosa</td></tr>\n",
       "\t<tr><td>4.9   </td><td>3.1   </td><td>1.5   </td><td>0.1   </td><td>setosa</td></tr>\n",
       "\t<tr><td>5.4   </td><td>3.7   </td><td>1.5   </td><td>0.2   </td><td>setosa</td></tr>\n",
       "\t<tr><td>4.8   </td><td>3.4   </td><td>1.6   </td><td>0.2   </td><td>setosa</td></tr>\n",
       "\t<tr><td>4.8   </td><td>3.0   </td><td>1.4   </td><td>0.1   </td><td>setosa</td></tr>\n",
       "\t<tr><td>4.3   </td><td>3.0   </td><td>1.1   </td><td>0.1   </td><td>setosa</td></tr>\n",
       "\t<tr><td>5.8   </td><td>4.0   </td><td>1.2   </td><td>0.2   </td><td>setosa</td></tr>\n",
       "\t<tr><td>5.7   </td><td>4.4   </td><td>1.5   </td><td>0.4   </td><td>setosa</td></tr>\n",
       "\t<tr><td>5.4   </td><td>3.9   </td><td>1.3   </td><td>0.4   </td><td>setosa</td></tr>\n",
       "\t<tr><td>5.1   </td><td>3.5   </td><td>1.4   </td><td>0.3   </td><td>setosa</td></tr>\n",
       "\t<tr><td>5.7   </td><td>3.8   </td><td>1.7   </td><td>0.3   </td><td>setosa</td></tr>\n",
       "\t<tr><td>5.1   </td><td>3.8   </td><td>1.5   </td><td>0.3   </td><td>setosa</td></tr>\n",
       "\t<tr><td>5.4   </td><td>3.4   </td><td>1.7   </td><td>0.2   </td><td>setosa</td></tr>\n",
       "\t<tr><td>5.1   </td><td>3.7   </td><td>1.5   </td><td>0.4   </td><td>setosa</td></tr>\n",
       "\t<tr><td>4.6   </td><td>3.6   </td><td>1.0   </td><td>0.2   </td><td>setosa</td></tr>\n",
       "\t<tr><td>5.1   </td><td>3.3   </td><td>1.7   </td><td>0.5   </td><td>setosa</td></tr>\n",
       "\t<tr><td>4.8   </td><td>3.4   </td><td>1.9   </td><td>0.2   </td><td>setosa</td></tr>\n",
       "\t<tr><td>5.0   </td><td>3.0   </td><td>1.6   </td><td>0.2   </td><td>setosa</td></tr>\n",
       "\t<tr><td>5.0   </td><td>3.4   </td><td>1.6   </td><td>0.4   </td><td>setosa</td></tr>\n",
       "\t<tr><td>5.2   </td><td>3.5   </td><td>1.5   </td><td>0.2   </td><td>setosa</td></tr>\n",
       "\t<tr><td>5.2   </td><td>3.4   </td><td>1.4   </td><td>0.2   </td><td>setosa</td></tr>\n",
       "\t<tr><td>4.7   </td><td>3.2   </td><td>1.6   </td><td>0.2   </td><td>setosa</td></tr>\n",
       "\t<tr><td>...</td><td>...</td><td>...</td><td>...</td><td>...</td></tr>\n",
       "\t<tr><td>6.9      </td><td>3.2      </td><td>5.7      </td><td>2.3      </td><td>virginica</td></tr>\n",
       "\t<tr><td>5.6      </td><td>2.8      </td><td>4.9      </td><td>2.0      </td><td>virginica</td></tr>\n",
       "\t<tr><td>7.7      </td><td>2.8      </td><td>6.7      </td><td>2.0      </td><td>virginica</td></tr>\n",
       "\t<tr><td>6.3      </td><td>2.7      </td><td>4.9      </td><td>1.8      </td><td>virginica</td></tr>\n",
       "\t<tr><td>6.7      </td><td>3.3      </td><td>5.7      </td><td>2.1      </td><td>virginica</td></tr>\n",
       "\t<tr><td>7.2      </td><td>3.2      </td><td>6.0      </td><td>1.8      </td><td>virginica</td></tr>\n",
       "\t<tr><td>6.2      </td><td>2.8      </td><td>4.8      </td><td>1.8      </td><td>virginica</td></tr>\n",
       "\t<tr><td>6.1      </td><td>3.0      </td><td>4.9      </td><td>1.8      </td><td>virginica</td></tr>\n",
       "\t<tr><td>6.4      </td><td>2.8      </td><td>5.6      </td><td>2.1      </td><td>virginica</td></tr>\n",
       "\t<tr><td>7.2      </td><td>3.0      </td><td>5.8      </td><td>1.6      </td><td>virginica</td></tr>\n",
       "\t<tr><td>7.4      </td><td>2.8      </td><td>6.1      </td><td>1.9      </td><td>virginica</td></tr>\n",
       "\t<tr><td>7.9      </td><td>3.8      </td><td>6.4      </td><td>2.0      </td><td>virginica</td></tr>\n",
       "\t<tr><td>6.4      </td><td>2.8      </td><td>5.6      </td><td>2.2      </td><td>virginica</td></tr>\n",
       "\t<tr><td>6.3      </td><td>2.8      </td><td>5.1      </td><td>1.5      </td><td>virginica</td></tr>\n",
       "\t<tr><td>6.1      </td><td>2.6      </td><td>5.6      </td><td>1.4      </td><td>virginica</td></tr>\n",
       "\t<tr><td>7.7      </td><td>3.0      </td><td>6.1      </td><td>2.3      </td><td>virginica</td></tr>\n",
       "\t<tr><td>6.3      </td><td>3.4      </td><td>5.6      </td><td>2.4      </td><td>virginica</td></tr>\n",
       "\t<tr><td>6.4      </td><td>3.1      </td><td>5.5      </td><td>1.8      </td><td>virginica</td></tr>\n",
       "\t<tr><td>6.0      </td><td>3.0      </td><td>4.8      </td><td>1.8      </td><td>virginica</td></tr>\n",
       "\t<tr><td>6.9      </td><td>3.1      </td><td>5.4      </td><td>2.1      </td><td>virginica</td></tr>\n",
       "\t<tr><td>6.7      </td><td>3.1      </td><td>5.6      </td><td>2.4      </td><td>virginica</td></tr>\n",
       "\t<tr><td>6.9      </td><td>3.1      </td><td>5.1      </td><td>2.3      </td><td>virginica</td></tr>\n",
       "\t<tr><td>5.8      </td><td>2.7      </td><td>5.1      </td><td>1.9      </td><td>virginica</td></tr>\n",
       "\t<tr><td>6.8      </td><td>3.2      </td><td>5.9      </td><td>2.3      </td><td>virginica</td></tr>\n",
       "\t<tr><td>6.7      </td><td>3.3      </td><td>5.7      </td><td>2.5      </td><td>virginica</td></tr>\n",
       "\t<tr><td>6.7      </td><td>3.0      </td><td>5.2      </td><td>2.3      </td><td>virginica</td></tr>\n",
       "\t<tr><td>6.3      </td><td>2.5      </td><td>5.0      </td><td>1.9      </td><td>virginica</td></tr>\n",
       "\t<tr><td>6.5      </td><td>3.0      </td><td>5.2      </td><td>2.0      </td><td>virginica</td></tr>\n",
       "\t<tr><td>6.2      </td><td>3.4      </td><td>5.4      </td><td>2.3      </td><td>virginica</td></tr>\n",
       "\t<tr><td>5.9      </td><td>3.0      </td><td>5.1      </td><td>1.8      </td><td>virginica</td></tr>\n",
       "</tbody>\n",
       "</table>\n"
      ],
      "text/latex": [
       "\\begin{tabular}{r|lllll}\n",
       " Sepal.Length & Sepal.Width & Petal.Length & Petal.Width & Species\\\\\n",
       "\\hline\n",
       "\t 5.1    & 3.5    & 1.4    & 0.2    & setosa\\\\\n",
       "\t 4.9    & 3.0    & 1.4    & 0.2    & setosa\\\\\n",
       "\t 4.7    & 3.2    & 1.3    & 0.2    & setosa\\\\\n",
       "\t 4.6    & 3.1    & 1.5    & 0.2    & setosa\\\\\n",
       "\t 5.0    & 3.6    & 1.4    & 0.2    & setosa\\\\\n",
       "\t 5.4    & 3.9    & 1.7    & 0.4    & setosa\\\\\n",
       "\t 4.6    & 3.4    & 1.4    & 0.3    & setosa\\\\\n",
       "\t 5.0    & 3.4    & 1.5    & 0.2    & setosa\\\\\n",
       "\t 4.4    & 2.9    & 1.4    & 0.2    & setosa\\\\\n",
       "\t 4.9    & 3.1    & 1.5    & 0.1    & setosa\\\\\n",
       "\t 5.4    & 3.7    & 1.5    & 0.2    & setosa\\\\\n",
       "\t 4.8    & 3.4    & 1.6    & 0.2    & setosa\\\\\n",
       "\t 4.8    & 3.0    & 1.4    & 0.1    & setosa\\\\\n",
       "\t 4.3    & 3.0    & 1.1    & 0.1    & setosa\\\\\n",
       "\t 5.8    & 4.0    & 1.2    & 0.2    & setosa\\\\\n",
       "\t 5.7    & 4.4    & 1.5    & 0.4    & setosa\\\\\n",
       "\t 5.4    & 3.9    & 1.3    & 0.4    & setosa\\\\\n",
       "\t 5.1    & 3.5    & 1.4    & 0.3    & setosa\\\\\n",
       "\t 5.7    & 3.8    & 1.7    & 0.3    & setosa\\\\\n",
       "\t 5.1    & 3.8    & 1.5    & 0.3    & setosa\\\\\n",
       "\t 5.4    & 3.4    & 1.7    & 0.2    & setosa\\\\\n",
       "\t 5.1    & 3.7    & 1.5    & 0.4    & setosa\\\\\n",
       "\t 4.6    & 3.6    & 1.0    & 0.2    & setosa\\\\\n",
       "\t 5.1    & 3.3    & 1.7    & 0.5    & setosa\\\\\n",
       "\t 4.8    & 3.4    & 1.9    & 0.2    & setosa\\\\\n",
       "\t 5.0    & 3.0    & 1.6    & 0.2    & setosa\\\\\n",
       "\t 5.0    & 3.4    & 1.6    & 0.4    & setosa\\\\\n",
       "\t 5.2    & 3.5    & 1.5    & 0.2    & setosa\\\\\n",
       "\t 5.2    & 3.4    & 1.4    & 0.2    & setosa\\\\\n",
       "\t 4.7    & 3.2    & 1.6    & 0.2    & setosa\\\\\n",
       "\t ... & ... & ... & ... & ...\\\\\n",
       "\t 6.9       & 3.2       & 5.7       & 2.3       & virginica\\\\\n",
       "\t 5.6       & 2.8       & 4.9       & 2.0       & virginica\\\\\n",
       "\t 7.7       & 2.8       & 6.7       & 2.0       & virginica\\\\\n",
       "\t 6.3       & 2.7       & 4.9       & 1.8       & virginica\\\\\n",
       "\t 6.7       & 3.3       & 5.7       & 2.1       & virginica\\\\\n",
       "\t 7.2       & 3.2       & 6.0       & 1.8       & virginica\\\\\n",
       "\t 6.2       & 2.8       & 4.8       & 1.8       & virginica\\\\\n",
       "\t 6.1       & 3.0       & 4.9       & 1.8       & virginica\\\\\n",
       "\t 6.4       & 2.8       & 5.6       & 2.1       & virginica\\\\\n",
       "\t 7.2       & 3.0       & 5.8       & 1.6       & virginica\\\\\n",
       "\t 7.4       & 2.8       & 6.1       & 1.9       & virginica\\\\\n",
       "\t 7.9       & 3.8       & 6.4       & 2.0       & virginica\\\\\n",
       "\t 6.4       & 2.8       & 5.6       & 2.2       & virginica\\\\\n",
       "\t 6.3       & 2.8       & 5.1       & 1.5       & virginica\\\\\n",
       "\t 6.1       & 2.6       & 5.6       & 1.4       & virginica\\\\\n",
       "\t 7.7       & 3.0       & 6.1       & 2.3       & virginica\\\\\n",
       "\t 6.3       & 3.4       & 5.6       & 2.4       & virginica\\\\\n",
       "\t 6.4       & 3.1       & 5.5       & 1.8       & virginica\\\\\n",
       "\t 6.0       & 3.0       & 4.8       & 1.8       & virginica\\\\\n",
       "\t 6.9       & 3.1       & 5.4       & 2.1       & virginica\\\\\n",
       "\t 6.7       & 3.1       & 5.6       & 2.4       & virginica\\\\\n",
       "\t 6.9       & 3.1       & 5.1       & 2.3       & virginica\\\\\n",
       "\t 5.8       & 2.7       & 5.1       & 1.9       & virginica\\\\\n",
       "\t 6.8       & 3.2       & 5.9       & 2.3       & virginica\\\\\n",
       "\t 6.7       & 3.3       & 5.7       & 2.5       & virginica\\\\\n",
       "\t 6.7       & 3.0       & 5.2       & 2.3       & virginica\\\\\n",
       "\t 6.3       & 2.5       & 5.0       & 1.9       & virginica\\\\\n",
       "\t 6.5       & 3.0       & 5.2       & 2.0       & virginica\\\\\n",
       "\t 6.2       & 3.4       & 5.4       & 2.3       & virginica\\\\\n",
       "\t 5.9       & 3.0       & 5.1       & 1.8       & virginica\\\\\n",
       "\\end{tabular}\n"
      ],
      "text/markdown": [
       "\n",
       "| Sepal.Length | Sepal.Width | Petal.Length | Petal.Width | Species |\n",
       "|---|---|---|---|---|\n",
       "| 5.1    | 3.5    | 1.4    | 0.2    | setosa |\n",
       "| 4.9    | 3.0    | 1.4    | 0.2    | setosa |\n",
       "| 4.7    | 3.2    | 1.3    | 0.2    | setosa |\n",
       "| 4.6    | 3.1    | 1.5    | 0.2    | setosa |\n",
       "| 5.0    | 3.6    | 1.4    | 0.2    | setosa |\n",
       "| 5.4    | 3.9    | 1.7    | 0.4    | setosa |\n",
       "| 4.6    | 3.4    | 1.4    | 0.3    | setosa |\n",
       "| 5.0    | 3.4    | 1.5    | 0.2    | setosa |\n",
       "| 4.4    | 2.9    | 1.4    | 0.2    | setosa |\n",
       "| 4.9    | 3.1    | 1.5    | 0.1    | setosa |\n",
       "| 5.4    | 3.7    | 1.5    | 0.2    | setosa |\n",
       "| 4.8    | 3.4    | 1.6    | 0.2    | setosa |\n",
       "| 4.8    | 3.0    | 1.4    | 0.1    | setosa |\n",
       "| 4.3    | 3.0    | 1.1    | 0.1    | setosa |\n",
       "| 5.8    | 4.0    | 1.2    | 0.2    | setosa |\n",
       "| 5.7    | 4.4    | 1.5    | 0.4    | setosa |\n",
       "| 5.4    | 3.9    | 1.3    | 0.4    | setosa |\n",
       "| 5.1    | 3.5    | 1.4    | 0.3    | setosa |\n",
       "| 5.7    | 3.8    | 1.7    | 0.3    | setosa |\n",
       "| 5.1    | 3.8    | 1.5    | 0.3    | setosa |\n",
       "| 5.4    | 3.4    | 1.7    | 0.2    | setosa |\n",
       "| 5.1    | 3.7    | 1.5    | 0.4    | setosa |\n",
       "| 4.6    | 3.6    | 1.0    | 0.2    | setosa |\n",
       "| 5.1    | 3.3    | 1.7    | 0.5    | setosa |\n",
       "| 4.8    | 3.4    | 1.9    | 0.2    | setosa |\n",
       "| 5.0    | 3.0    | 1.6    | 0.2    | setosa |\n",
       "| 5.0    | 3.4    | 1.6    | 0.4    | setosa |\n",
       "| 5.2    | 3.5    | 1.5    | 0.2    | setosa |\n",
       "| 5.2    | 3.4    | 1.4    | 0.2    | setosa |\n",
       "| 4.7    | 3.2    | 1.6    | 0.2    | setosa |\n",
       "| ... | ... | ... | ... | ... |\n",
       "| 6.9       | 3.2       | 5.7       | 2.3       | virginica |\n",
       "| 5.6       | 2.8       | 4.9       | 2.0       | virginica |\n",
       "| 7.7       | 2.8       | 6.7       | 2.0       | virginica |\n",
       "| 6.3       | 2.7       | 4.9       | 1.8       | virginica |\n",
       "| 6.7       | 3.3       | 5.7       | 2.1       | virginica |\n",
       "| 7.2       | 3.2       | 6.0       | 1.8       | virginica |\n",
       "| 6.2       | 2.8       | 4.8       | 1.8       | virginica |\n",
       "| 6.1       | 3.0       | 4.9       | 1.8       | virginica |\n",
       "| 6.4       | 2.8       | 5.6       | 2.1       | virginica |\n",
       "| 7.2       | 3.0       | 5.8       | 1.6       | virginica |\n",
       "| 7.4       | 2.8       | 6.1       | 1.9       | virginica |\n",
       "| 7.9       | 3.8       | 6.4       | 2.0       | virginica |\n",
       "| 6.4       | 2.8       | 5.6       | 2.2       | virginica |\n",
       "| 6.3       | 2.8       | 5.1       | 1.5       | virginica |\n",
       "| 6.1       | 2.6       | 5.6       | 1.4       | virginica |\n",
       "| 7.7       | 3.0       | 6.1       | 2.3       | virginica |\n",
       "| 6.3       | 3.4       | 5.6       | 2.4       | virginica |\n",
       "| 6.4       | 3.1       | 5.5       | 1.8       | virginica |\n",
       "| 6.0       | 3.0       | 4.8       | 1.8       | virginica |\n",
       "| 6.9       | 3.1       | 5.4       | 2.1       | virginica |\n",
       "| 6.7       | 3.1       | 5.6       | 2.4       | virginica |\n",
       "| 6.9       | 3.1       | 5.1       | 2.3       | virginica |\n",
       "| 5.8       | 2.7       | 5.1       | 1.9       | virginica |\n",
       "| 6.8       | 3.2       | 5.9       | 2.3       | virginica |\n",
       "| 6.7       | 3.3       | 5.7       | 2.5       | virginica |\n",
       "| 6.7       | 3.0       | 5.2       | 2.3       | virginica |\n",
       "| 6.3       | 2.5       | 5.0       | 1.9       | virginica |\n",
       "| 6.5       | 3.0       | 5.2       | 2.0       | virginica |\n",
       "| 6.2       | 3.4       | 5.4       | 2.3       | virginica |\n",
       "| 5.9       | 3.0       | 5.1       | 1.8       | virginica |\n",
       "\n"
      ],
      "text/plain": [
       "    Sepal.Length Sepal.Width Petal.Length Petal.Width Species  \n",
       "1   5.1          3.5         1.4          0.2         setosa   \n",
       "2   4.9          3.0         1.4          0.2         setosa   \n",
       "3   4.7          3.2         1.3          0.2         setosa   \n",
       "4   4.6          3.1         1.5          0.2         setosa   \n",
       "5   5.0          3.6         1.4          0.2         setosa   \n",
       "6   5.4          3.9         1.7          0.4         setosa   \n",
       "7   4.6          3.4         1.4          0.3         setosa   \n",
       "8   5.0          3.4         1.5          0.2         setosa   \n",
       "9   4.4          2.9         1.4          0.2         setosa   \n",
       "10  4.9          3.1         1.5          0.1         setosa   \n",
       "11  5.4          3.7         1.5          0.2         setosa   \n",
       "12  4.8          3.4         1.6          0.2         setosa   \n",
       "13  4.8          3.0         1.4          0.1         setosa   \n",
       "14  4.3          3.0         1.1          0.1         setosa   \n",
       "15  5.8          4.0         1.2          0.2         setosa   \n",
       "16  5.7          4.4         1.5          0.4         setosa   \n",
       "17  5.4          3.9         1.3          0.4         setosa   \n",
       "18  5.1          3.5         1.4          0.3         setosa   \n",
       "19  5.7          3.8         1.7          0.3         setosa   \n",
       "20  5.1          3.8         1.5          0.3         setosa   \n",
       "21  5.4          3.4         1.7          0.2         setosa   \n",
       "22  5.1          3.7         1.5          0.4         setosa   \n",
       "23  4.6          3.6         1.0          0.2         setosa   \n",
       "24  5.1          3.3         1.7          0.5         setosa   \n",
       "25  4.8          3.4         1.9          0.2         setosa   \n",
       "26  5.0          3.0         1.6          0.2         setosa   \n",
       "27  5.0          3.4         1.6          0.4         setosa   \n",
       "28  5.2          3.5         1.5          0.2         setosa   \n",
       "29  5.2          3.4         1.4          0.2         setosa   \n",
       "30  4.7          3.2         1.6          0.2         setosa   \n",
       "... ...          ...         ...          ...         ...      \n",
       "121 6.9          3.2         5.7          2.3         virginica\n",
       "122 5.6          2.8         4.9          2.0         virginica\n",
       "123 7.7          2.8         6.7          2.0         virginica\n",
       "124 6.3          2.7         4.9          1.8         virginica\n",
       "125 6.7          3.3         5.7          2.1         virginica\n",
       "126 7.2          3.2         6.0          1.8         virginica\n",
       "127 6.2          2.8         4.8          1.8         virginica\n",
       "128 6.1          3.0         4.9          1.8         virginica\n",
       "129 6.4          2.8         5.6          2.1         virginica\n",
       "130 7.2          3.0         5.8          1.6         virginica\n",
       "131 7.4          2.8         6.1          1.9         virginica\n",
       "132 7.9          3.8         6.4          2.0         virginica\n",
       "133 6.4          2.8         5.6          2.2         virginica\n",
       "134 6.3          2.8         5.1          1.5         virginica\n",
       "135 6.1          2.6         5.6          1.4         virginica\n",
       "136 7.7          3.0         6.1          2.3         virginica\n",
       "137 6.3          3.4         5.6          2.4         virginica\n",
       "138 6.4          3.1         5.5          1.8         virginica\n",
       "139 6.0          3.0         4.8          1.8         virginica\n",
       "140 6.9          3.1         5.4          2.1         virginica\n",
       "141 6.7          3.1         5.6          2.4         virginica\n",
       "142 6.9          3.1         5.1          2.3         virginica\n",
       "143 5.8          2.7         5.1          1.9         virginica\n",
       "144 6.8          3.2         5.9          2.3         virginica\n",
       "145 6.7          3.3         5.7          2.5         virginica\n",
       "146 6.7          3.0         5.2          2.3         virginica\n",
       "147 6.3          2.5         5.0          1.9         virginica\n",
       "148 6.5          3.0         5.2          2.0         virginica\n",
       "149 6.2          3.4         5.4          2.3         virginica\n",
       "150 5.9          3.0         5.1          1.8         virginica"
      ]
     },
     "metadata": {},
     "output_type": "display_data"
    }
   ],
   "source": [
    "iris"
   ]
  },
  {
   "cell_type": "markdown",
   "metadata": {},
   "source": [
    "Showing full dataset"
   ]
  },
  {
   "cell_type": "code",
   "execution_count": 20,
   "metadata": {},
   "outputs": [
    {
     "name": "stdout",
     "output_type": "stream",
     "text": [
      "    Sepal.Length Sepal.Width Petal.Length Petal.Width    Species\n",
      "1            5.1         3.5          1.4         0.2     setosa\n",
      "2            4.9         3.0          1.4         0.2     setosa\n",
      "3            4.7         3.2          1.3         0.2     setosa\n",
      "4            4.6         3.1          1.5         0.2     setosa\n",
      "5            5.0         3.6          1.4         0.2     setosa\n",
      "6            5.4         3.9          1.7         0.4     setosa\n",
      "7            4.6         3.4          1.4         0.3     setosa\n",
      "8            5.0         3.4          1.5         0.2     setosa\n",
      "9            4.4         2.9          1.4         0.2     setosa\n",
      "10           4.9         3.1          1.5         0.1     setosa\n",
      "11           5.4         3.7          1.5         0.2     setosa\n",
      "12           4.8         3.4          1.6         0.2     setosa\n",
      "13           4.8         3.0          1.4         0.1     setosa\n",
      "14           4.3         3.0          1.1         0.1     setosa\n",
      "15           5.8         4.0          1.2         0.2     setosa\n",
      "16           5.7         4.4          1.5         0.4     setosa\n",
      "17           5.4         3.9          1.3         0.4     setosa\n",
      "18           5.1         3.5          1.4         0.3     setosa\n",
      "19           5.7         3.8          1.7         0.3     setosa\n",
      "20           5.1         3.8          1.5         0.3     setosa\n",
      "21           5.4         3.4          1.7         0.2     setosa\n",
      "22           5.1         3.7          1.5         0.4     setosa\n",
      "23           4.6         3.6          1.0         0.2     setosa\n",
      "24           5.1         3.3          1.7         0.5     setosa\n",
      "25           4.8         3.4          1.9         0.2     setosa\n",
      "26           5.0         3.0          1.6         0.2     setosa\n",
      "27           5.0         3.4          1.6         0.4     setosa\n",
      "28           5.2         3.5          1.5         0.2     setosa\n",
      "29           5.2         3.4          1.4         0.2     setosa\n",
      "30           4.7         3.2          1.6         0.2     setosa\n",
      "31           4.8         3.1          1.6         0.2     setosa\n",
      "32           5.4         3.4          1.5         0.4     setosa\n",
      "33           5.2         4.1          1.5         0.1     setosa\n",
      "34           5.5         4.2          1.4         0.2     setosa\n",
      "35           4.9         3.1          1.5         0.2     setosa\n",
      "36           5.0         3.2          1.2         0.2     setosa\n",
      "37           5.5         3.5          1.3         0.2     setosa\n",
      "38           4.9         3.6          1.4         0.1     setosa\n",
      "39           4.4         3.0          1.3         0.2     setosa\n",
      "40           5.1         3.4          1.5         0.2     setosa\n",
      "41           5.0         3.5          1.3         0.3     setosa\n",
      "42           4.5         2.3          1.3         0.3     setosa\n",
      "43           4.4         3.2          1.3         0.2     setosa\n",
      "44           5.0         3.5          1.6         0.6     setosa\n",
      "45           5.1         3.8          1.9         0.4     setosa\n",
      "46           4.8         3.0          1.4         0.3     setosa\n",
      "47           5.1         3.8          1.6         0.2     setosa\n",
      "48           4.6         3.2          1.4         0.2     setosa\n",
      "49           5.3         3.7          1.5         0.2     setosa\n",
      "50           5.0         3.3          1.4         0.2     setosa\n",
      "51           7.0         3.2          4.7         1.4 versicolor\n",
      "52           6.4         3.2          4.5         1.5 versicolor\n",
      "53           6.9         3.1          4.9         1.5 versicolor\n",
      "54           5.5         2.3          4.0         1.3 versicolor\n",
      "55           6.5         2.8          4.6         1.5 versicolor\n",
      "56           5.7         2.8          4.5         1.3 versicolor\n",
      "57           6.3         3.3          4.7         1.6 versicolor\n",
      "58           4.9         2.4          3.3         1.0 versicolor\n",
      "59           6.6         2.9          4.6         1.3 versicolor\n",
      "60           5.2         2.7          3.9         1.4 versicolor\n",
      "61           5.0         2.0          3.5         1.0 versicolor\n",
      "62           5.9         3.0          4.2         1.5 versicolor\n",
      "63           6.0         2.2          4.0         1.0 versicolor\n",
      "64           6.1         2.9          4.7         1.4 versicolor\n",
      "65           5.6         2.9          3.6         1.3 versicolor\n",
      "66           6.7         3.1          4.4         1.4 versicolor\n",
      "67           5.6         3.0          4.5         1.5 versicolor\n",
      "68           5.8         2.7          4.1         1.0 versicolor\n",
      "69           6.2         2.2          4.5         1.5 versicolor\n",
      "70           5.6         2.5          3.9         1.1 versicolor\n",
      "71           5.9         3.2          4.8         1.8 versicolor\n",
      "72           6.1         2.8          4.0         1.3 versicolor\n",
      "73           6.3         2.5          4.9         1.5 versicolor\n",
      "74           6.1         2.8          4.7         1.2 versicolor\n",
      "75           6.4         2.9          4.3         1.3 versicolor\n",
      "76           6.6         3.0          4.4         1.4 versicolor\n",
      "77           6.8         2.8          4.8         1.4 versicolor\n",
      "78           6.7         3.0          5.0         1.7 versicolor\n",
      "79           6.0         2.9          4.5         1.5 versicolor\n",
      "80           5.7         2.6          3.5         1.0 versicolor\n",
      "81           5.5         2.4          3.8         1.1 versicolor\n",
      "82           5.5         2.4          3.7         1.0 versicolor\n",
      "83           5.8         2.7          3.9         1.2 versicolor\n",
      "84           6.0         2.7          5.1         1.6 versicolor\n",
      "85           5.4         3.0          4.5         1.5 versicolor\n",
      "86           6.0         3.4          4.5         1.6 versicolor\n",
      "87           6.7         3.1          4.7         1.5 versicolor\n",
      "88           6.3         2.3          4.4         1.3 versicolor\n",
      "89           5.6         3.0          4.1         1.3 versicolor\n",
      "90           5.5         2.5          4.0         1.3 versicolor\n",
      "91           5.5         2.6          4.4         1.2 versicolor\n",
      "92           6.1         3.0          4.6         1.4 versicolor\n",
      "93           5.8         2.6          4.0         1.2 versicolor\n",
      "94           5.0         2.3          3.3         1.0 versicolor\n",
      "95           5.6         2.7          4.2         1.3 versicolor\n",
      "96           5.7         3.0          4.2         1.2 versicolor\n",
      "97           5.7         2.9          4.2         1.3 versicolor\n",
      "98           6.2         2.9          4.3         1.3 versicolor\n",
      "99           5.1         2.5          3.0         1.1 versicolor\n",
      "100          5.7         2.8          4.1         1.3 versicolor\n",
      "101          6.3         3.3          6.0         2.5  virginica\n",
      "102          5.8         2.7          5.1         1.9  virginica\n",
      "103          7.1         3.0          5.9         2.1  virginica\n",
      "104          6.3         2.9          5.6         1.8  virginica\n",
      "105          6.5         3.0          5.8         2.2  virginica\n",
      "106          7.6         3.0          6.6         2.1  virginica\n",
      "107          4.9         2.5          4.5         1.7  virginica\n",
      "108          7.3         2.9          6.3         1.8  virginica\n",
      "109          6.7         2.5          5.8         1.8  virginica\n",
      "110          7.2         3.6          6.1         2.5  virginica\n",
      "111          6.5         3.2          5.1         2.0  virginica\n",
      "112          6.4         2.7          5.3         1.9  virginica\n",
      "113          6.8         3.0          5.5         2.1  virginica\n",
      "114          5.7         2.5          5.0         2.0  virginica\n",
      "115          5.8         2.8          5.1         2.4  virginica\n",
      "116          6.4         3.2          5.3         2.3  virginica\n",
      "117          6.5         3.0          5.5         1.8  virginica\n",
      "118          7.7         3.8          6.7         2.2  virginica\n",
      "119          7.7         2.6          6.9         2.3  virginica\n",
      "120          6.0         2.2          5.0         1.5  virginica\n",
      "121          6.9         3.2          5.7         2.3  virginica\n",
      "122          5.6         2.8          4.9         2.0  virginica\n",
      "123          7.7         2.8          6.7         2.0  virginica\n",
      "124          6.3         2.7          4.9         1.8  virginica\n",
      "125          6.7         3.3          5.7         2.1  virginica\n",
      "126          7.2         3.2          6.0         1.8  virginica\n",
      "127          6.2         2.8          4.8         1.8  virginica\n",
      "128          6.1         3.0          4.9         1.8  virginica\n",
      "129          6.4         2.8          5.6         2.1  virginica\n",
      "130          7.2         3.0          5.8         1.6  virginica\n",
      "131          7.4         2.8          6.1         1.9  virginica\n",
      "132          7.9         3.8          6.4         2.0  virginica\n",
      "133          6.4         2.8          5.6         2.2  virginica\n",
      "134          6.3         2.8          5.1         1.5  virginica\n",
      "135          6.1         2.6          5.6         1.4  virginica\n",
      "136          7.7         3.0          6.1         2.3  virginica\n",
      "137          6.3         3.4          5.6         2.4  virginica\n",
      "138          6.4         3.1          5.5         1.8  virginica\n",
      "139          6.0         3.0          4.8         1.8  virginica\n",
      "140          6.9         3.1          5.4         2.1  virginica\n",
      "141          6.7         3.1          5.6         2.4  virginica\n",
      "142          6.9         3.1          5.1         2.3  virginica\n",
      "143          5.8         2.7          5.1         1.9  virginica\n",
      "144          6.8         3.2          5.9         2.3  virginica\n",
      "145          6.7         3.3          5.7         2.5  virginica\n",
      "146          6.7         3.0          5.2         2.3  virginica\n",
      "147          6.3         2.5          5.0         1.9  virginica\n",
      "148          6.5         3.0          5.2         2.0  virginica\n",
      "149          6.2         3.4          5.4         2.3  virginica\n",
      "150          5.9         3.0          5.1         1.8  virginica\n"
     ]
    }
   ],
   "source": [
    "# Set max no. to be high\n",
    "options(max.print=25000) \n",
    "print.data.frame(iris)"
   ]
  },
  {
   "cell_type": "markdown",
   "metadata": {},
   "source": [
    "Showing first few values of dataset"
   ]
  },
  {
   "cell_type": "code",
   "execution_count": 21,
   "metadata": {},
   "outputs": [
    {
     "data": {
      "text/html": [
       "<table>\n",
       "<thead><tr><th scope=col>Sepal.Length</th><th scope=col>Sepal.Width</th><th scope=col>Petal.Length</th><th scope=col>Petal.Width</th><th scope=col>Species</th></tr></thead>\n",
       "<tbody>\n",
       "\t<tr><td>5.1   </td><td>3.5   </td><td>1.4   </td><td>0.2   </td><td>setosa</td></tr>\n",
       "\t<tr><td>4.9   </td><td>3.0   </td><td>1.4   </td><td>0.2   </td><td>setosa</td></tr>\n",
       "\t<tr><td>4.7   </td><td>3.2   </td><td>1.3   </td><td>0.2   </td><td>setosa</td></tr>\n",
       "\t<tr><td>4.6   </td><td>3.1   </td><td>1.5   </td><td>0.2   </td><td>setosa</td></tr>\n",
       "\t<tr><td>5.0   </td><td>3.6   </td><td>1.4   </td><td>0.2   </td><td>setosa</td></tr>\n",
       "\t<tr><td>5.4   </td><td>3.9   </td><td>1.7   </td><td>0.4   </td><td>setosa</td></tr>\n",
       "</tbody>\n",
       "</table>\n"
      ],
      "text/latex": [
       "\\begin{tabular}{r|lllll}\n",
       " Sepal.Length & Sepal.Width & Petal.Length & Petal.Width & Species\\\\\n",
       "\\hline\n",
       "\t 5.1    & 3.5    & 1.4    & 0.2    & setosa\\\\\n",
       "\t 4.9    & 3.0    & 1.4    & 0.2    & setosa\\\\\n",
       "\t 4.7    & 3.2    & 1.3    & 0.2    & setosa\\\\\n",
       "\t 4.6    & 3.1    & 1.5    & 0.2    & setosa\\\\\n",
       "\t 5.0    & 3.6    & 1.4    & 0.2    & setosa\\\\\n",
       "\t 5.4    & 3.9    & 1.7    & 0.4    & setosa\\\\\n",
       "\\end{tabular}\n"
      ],
      "text/markdown": [
       "\n",
       "| Sepal.Length | Sepal.Width | Petal.Length | Petal.Width | Species |\n",
       "|---|---|---|---|---|\n",
       "| 5.1    | 3.5    | 1.4    | 0.2    | setosa |\n",
       "| 4.9    | 3.0    | 1.4    | 0.2    | setosa |\n",
       "| 4.7    | 3.2    | 1.3    | 0.2    | setosa |\n",
       "| 4.6    | 3.1    | 1.5    | 0.2    | setosa |\n",
       "| 5.0    | 3.6    | 1.4    | 0.2    | setosa |\n",
       "| 5.4    | 3.9    | 1.7    | 0.4    | setosa |\n",
       "\n"
      ],
      "text/plain": [
       "  Sepal.Length Sepal.Width Petal.Length Petal.Width Species\n",
       "1 5.1          3.5         1.4          0.2         setosa \n",
       "2 4.9          3.0         1.4          0.2         setosa \n",
       "3 4.7          3.2         1.3          0.2         setosa \n",
       "4 4.6          3.1         1.5          0.2         setosa \n",
       "5 5.0          3.6         1.4          0.2         setosa \n",
       "6 5.4          3.9         1.7          0.4         setosa "
      ]
     },
     "metadata": {},
     "output_type": "display_data"
    },
    {
     "data": {
      "text/html": [
       "<table>\n",
       "<thead><tr><th></th><th scope=col>Sepal.Length</th><th scope=col>Sepal.Width</th><th scope=col>Petal.Length</th><th scope=col>Petal.Width</th><th scope=col>Species</th></tr></thead>\n",
       "<tbody>\n",
       "\t<tr><th scope=row>145</th><td>6.7      </td><td>3.3      </td><td>5.7      </td><td>2.5      </td><td>virginica</td></tr>\n",
       "\t<tr><th scope=row>146</th><td>6.7      </td><td>3.0      </td><td>5.2      </td><td>2.3      </td><td>virginica</td></tr>\n",
       "\t<tr><th scope=row>147</th><td>6.3      </td><td>2.5      </td><td>5.0      </td><td>1.9      </td><td>virginica</td></tr>\n",
       "\t<tr><th scope=row>148</th><td>6.5      </td><td>3.0      </td><td>5.2      </td><td>2.0      </td><td>virginica</td></tr>\n",
       "\t<tr><th scope=row>149</th><td>6.2      </td><td>3.4      </td><td>5.4      </td><td>2.3      </td><td>virginica</td></tr>\n",
       "\t<tr><th scope=row>150</th><td>5.9      </td><td>3.0      </td><td>5.1      </td><td>1.8      </td><td>virginica</td></tr>\n",
       "</tbody>\n",
       "</table>\n"
      ],
      "text/latex": [
       "\\begin{tabular}{r|lllll}\n",
       "  & Sepal.Length & Sepal.Width & Petal.Length & Petal.Width & Species\\\\\n",
       "\\hline\n",
       "\t145 & 6.7       & 3.3       & 5.7       & 2.5       & virginica\\\\\n",
       "\t146 & 6.7       & 3.0       & 5.2       & 2.3       & virginica\\\\\n",
       "\t147 & 6.3       & 2.5       & 5.0       & 1.9       & virginica\\\\\n",
       "\t148 & 6.5       & 3.0       & 5.2       & 2.0       & virginica\\\\\n",
       "\t149 & 6.2       & 3.4       & 5.4       & 2.3       & virginica\\\\\n",
       "\t150 & 5.9       & 3.0       & 5.1       & 1.8       & virginica\\\\\n",
       "\\end{tabular}\n"
      ],
      "text/markdown": [
       "\n",
       "| <!--/--> | Sepal.Length | Sepal.Width | Petal.Length | Petal.Width | Species |\n",
       "|---|---|---|---|---|---|\n",
       "| 145 | 6.7       | 3.3       | 5.7       | 2.5       | virginica |\n",
       "| 146 | 6.7       | 3.0       | 5.2       | 2.3       | virginica |\n",
       "| 147 | 6.3       | 2.5       | 5.0       | 1.9       | virginica |\n",
       "| 148 | 6.5       | 3.0       | 5.2       | 2.0       | virginica |\n",
       "| 149 | 6.2       | 3.4       | 5.4       | 2.3       | virginica |\n",
       "| 150 | 5.9       | 3.0       | 5.1       | 1.8       | virginica |\n",
       "\n"
      ],
      "text/plain": [
       "    Sepal.Length Sepal.Width Petal.Length Petal.Width Species  \n",
       "145 6.7          3.3         5.7          2.5         virginica\n",
       "146 6.7          3.0         5.2          2.3         virginica\n",
       "147 6.3          2.5         5.0          1.9         virginica\n",
       "148 6.5          3.0         5.2          2.0         virginica\n",
       "149 6.2          3.4         5.4          2.3         virginica\n",
       "150 5.9          3.0         5.1          1.8         virginica"
      ]
     },
     "metadata": {},
     "output_type": "display_data"
    }
   ],
   "source": [
    "# head and tail\n",
    "head(iris)\n",
    "tail(iris)"
   ]
  },
  {
   "cell_type": "markdown",
   "metadata": {},
   "source": [
    "Looking at range of data "
   ]
  },
  {
   "cell_type": "code",
   "execution_count": 24,
   "metadata": {},
   "outputs": [
    {
     "data": {
      "text/html": [
       "6.9"
      ],
      "text/latex": [
       "6.9"
      ],
      "text/markdown": [
       "6.9"
      ],
      "text/plain": [
       "[1] 6.9"
      ]
     },
     "metadata": {},
     "output_type": "display_data"
    },
    {
     "data": {
      "text/html": [
       "1"
      ],
      "text/latex": [
       "1"
      ],
      "text/markdown": [
       "1"
      ],
      "text/plain": [
       "[1] 1"
      ]
     },
     "metadata": {},
     "output_type": "display_data"
    },
    {
     "data": {
      "text/html": [
       "<ol class=list-inline>\n",
       "\t<li>setosa</li>\n",
       "\t<li>versicolor</li>\n",
       "\t<li>virginica</li>\n",
       "</ol>\n",
       "\n",
       "<details>\n",
       "\t<summary style=display:list-item;cursor:pointer>\n",
       "\t\t<strong>Levels</strong>:\n",
       "\t</summary>\n",
       "\t<ol class=list-inline>\n",
       "\t\t<li>'setosa'</li>\n",
       "\t\t<li>'versicolor'</li>\n",
       "\t\t<li>'virginica'</li>\n",
       "\t</ol>\n",
       "</details>"
      ],
      "text/latex": [
       "\\begin{enumerate*}\n",
       "\\item setosa\n",
       "\\item versicolor\n",
       "\\item virginica\n",
       "\\end{enumerate*}\n",
       "\n",
       "\\emph{Levels}: \\begin{enumerate*}\n",
       "\\item 'setosa'\n",
       "\\item 'versicolor'\n",
       "\\item 'virginica'\n",
       "\\end{enumerate*}\n"
      ],
      "text/markdown": [
       "1. setosa\n",
       "2. versicolor\n",
       "3. virginica\n",
       "\n",
       "\n",
       "\n",
       "**Levels**: 1. 'setosa'\n",
       "2. 'versicolor'\n",
       "3. 'virginica'\n",
       "\n",
       "\n"
      ],
      "text/plain": [
       "[1] setosa     versicolor virginica \n",
       "Levels: setosa versicolor virginica"
      ]
     },
     "metadata": {},
     "output_type": "display_data"
    },
    {
     "data": {
      "text/html": [
       "<ol class=list-inline>\n",
       "\t<li>1.4</li>\n",
       "\t<li>1.3</li>\n",
       "\t<li>1.5</li>\n",
       "\t<li>1.7</li>\n",
       "\t<li>1.6</li>\n",
       "\t<li>1.1</li>\n",
       "\t<li>1.2</li>\n",
       "\t<li>1</li>\n",
       "\t<li>1.9</li>\n",
       "\t<li>4.7</li>\n",
       "\t<li>4.5</li>\n",
       "\t<li>4.9</li>\n",
       "\t<li>4</li>\n",
       "\t<li>4.6</li>\n",
       "\t<li>3.3</li>\n",
       "\t<li>3.9</li>\n",
       "\t<li>3.5</li>\n",
       "\t<li>4.2</li>\n",
       "\t<li>3.6</li>\n",
       "\t<li>4.4</li>\n",
       "\t<li>4.1</li>\n",
       "\t<li>4.8</li>\n",
       "\t<li>4.3</li>\n",
       "\t<li>5</li>\n",
       "\t<li>3.8</li>\n",
       "\t<li>3.7</li>\n",
       "\t<li>5.1</li>\n",
       "\t<li>3</li>\n",
       "\t<li>6</li>\n",
       "\t<li>5.9</li>\n",
       "\t<li>5.6</li>\n",
       "\t<li>5.8</li>\n",
       "\t<li>6.6</li>\n",
       "\t<li>6.3</li>\n",
       "\t<li>6.1</li>\n",
       "\t<li>5.3</li>\n",
       "\t<li>5.5</li>\n",
       "\t<li>6.7</li>\n",
       "\t<li>6.9</li>\n",
       "\t<li>5.7</li>\n",
       "\t<li>6.4</li>\n",
       "\t<li>5.4</li>\n",
       "\t<li>5.2</li>\n",
       "</ol>\n"
      ],
      "text/latex": [
       "\\begin{enumerate*}\n",
       "\\item 1.4\n",
       "\\item 1.3\n",
       "\\item 1.5\n",
       "\\item 1.7\n",
       "\\item 1.6\n",
       "\\item 1.1\n",
       "\\item 1.2\n",
       "\\item 1\n",
       "\\item 1.9\n",
       "\\item 4.7\n",
       "\\item 4.5\n",
       "\\item 4.9\n",
       "\\item 4\n",
       "\\item 4.6\n",
       "\\item 3.3\n",
       "\\item 3.9\n",
       "\\item 3.5\n",
       "\\item 4.2\n",
       "\\item 3.6\n",
       "\\item 4.4\n",
       "\\item 4.1\n",
       "\\item 4.8\n",
       "\\item 4.3\n",
       "\\item 5\n",
       "\\item 3.8\n",
       "\\item 3.7\n",
       "\\item 5.1\n",
       "\\item 3\n",
       "\\item 6\n",
       "\\item 5.9\n",
       "\\item 5.6\n",
       "\\item 5.8\n",
       "\\item 6.6\n",
       "\\item 6.3\n",
       "\\item 6.1\n",
       "\\item 5.3\n",
       "\\item 5.5\n",
       "\\item 6.7\n",
       "\\item 6.9\n",
       "\\item 5.7\n",
       "\\item 6.4\n",
       "\\item 5.4\n",
       "\\item 5.2\n",
       "\\end{enumerate*}\n"
      ],
      "text/markdown": [
       "1. 1.4\n",
       "2. 1.3\n",
       "3. 1.5\n",
       "4. 1.7\n",
       "5. 1.6\n",
       "6. 1.1\n",
       "7. 1.2\n",
       "8. 1\n",
       "9. 1.9\n",
       "10. 4.7\n",
       "11. 4.5\n",
       "12. 4.9\n",
       "13. 4\n",
       "14. 4.6\n",
       "15. 3.3\n",
       "16. 3.9\n",
       "17. 3.5\n",
       "18. 4.2\n",
       "19. 3.6\n",
       "20. 4.4\n",
       "21. 4.1\n",
       "22. 4.8\n",
       "23. 4.3\n",
       "24. 5\n",
       "25. 3.8\n",
       "26. 3.7\n",
       "27. 5.1\n",
       "28. 3\n",
       "29. 6\n",
       "30. 5.9\n",
       "31. 5.6\n",
       "32. 5.8\n",
       "33. 6.6\n",
       "34. 6.3\n",
       "35. 6.1\n",
       "36. 5.3\n",
       "37. 5.5\n",
       "38. 6.7\n",
       "39. 6.9\n",
       "40. 5.7\n",
       "41. 6.4\n",
       "42. 5.4\n",
       "43. 5.2\n",
       "\n",
       "\n"
      ],
      "text/plain": [
       " [1] 1.4 1.3 1.5 1.7 1.6 1.1 1.2 1.0 1.9 4.7 4.5 4.9 4.0 4.6 3.3 3.9 3.5 4.2 3.6\n",
       "[20] 4.4 4.1 4.8 4.3 5.0 3.8 3.7 5.1 3.0 6.0 5.9 5.6 5.8 6.6 6.3 6.1 5.3 5.5 6.7\n",
       "[39] 6.9 5.7 6.4 5.4 5.2"
      ]
     },
     "metadata": {},
     "output_type": "display_data"
    }
   ],
   "source": [
    "# max\n",
    "max(iris$Petal.Length)\n",
    "# min\n",
    "min(iris$Petal.Length)\n",
    "# unique\n",
    "unique(iris$Species)\n",
    "# n_distinct\n",
    "unique(iris$Petal.Length)"
   ]
  },
  {
   "cell_type": "markdown",
   "metadata": {},
   "source": [
    "## Exercise 6: Looking at loans dataframe"
   ]
  },
  {
   "cell_type": "code",
   "execution_count": 25,
   "metadata": {},
   "outputs": [
    {
     "data": {
      "text/html": [
       "<table>\n",
       "<thead><tr><th scope=col>id</th><th scope=col>member_id</th><th scope=col>annual_inc</th><th scope=col>home_ownership</th><th scope=col>purpose</th><th scope=col>loan_amnt</th><th scope=col>int_rate</th><th scope=col>term</th><th scope=col>grade</th></tr></thead>\n",
       "<tbody>\n",
       "\t<tr><td>63459002          </td><td>67801839          </td><td>131000            </td><td>MORTGAGE          </td><td>credit_card       </td><td>35000             </td><td> 8.18             </td><td> 36 months        </td><td>B                 </td></tr>\n",
       "\t<tr><td> 2224979          </td><td> 2637150          </td><td>125000            </td><td>MORTGAGE          </td><td>debt_consolidation</td><td>29700             </td><td>15.31             </td><td> 60 months        </td><td>C                 </td></tr>\n",
       "\t<tr><td> 5979460          </td><td> 7451906          </td><td> 36070            </td><td>MORTGAGE          </td><td>debt_consolidation</td><td> 6700             </td><td> 7.90             </td><td> 36 months        </td><td>A                 </td></tr>\n",
       "\t<tr><td>57126822          </td><td>60829645          </td><td> 90000            </td><td>RENT              </td><td>credit_card       </td><td>18000             </td><td> 8.18             </td><td> 60 months        </td><td>B                 </td></tr>\n",
       "\t<tr><td> 1445209          </td><td> 1697667          </td><td> 90000            </td><td>MORTGAGE          </td><td>small_business    </td><td>18000             </td><td> 7.62             </td><td> 36 months        </td><td>A                 </td></tr>\n",
       "\t<tr><td>55078160          </td><td>58648875          </td><td> 50000            </td><td>RENT              </td><td>credit_card       </td><td>10000             </td><td>13.33             </td><td> 36 months        </td><td>C                 </td></tr>\n",
       "</tbody>\n",
       "</table>\n"
      ],
      "text/latex": [
       "\\begin{tabular}{r|lllllllll}\n",
       " id & member\\_id & annual\\_inc & home\\_ownership & purpose & loan\\_amnt & int\\_rate & term & grade\\\\\n",
       "\\hline\n",
       "\t 63459002             & 67801839             & 131000               & MORTGAGE             & credit\\_card        & 35000                &  8.18                &  36 months           & B                   \\\\\n",
       "\t  2224979             &  2637150             & 125000               & MORTGAGE             & debt\\_consolidation & 29700                & 15.31                &  60 months           & C                   \\\\\n",
       "\t  5979460             &  7451906             &  36070               & MORTGAGE             & debt\\_consolidation &  6700                &  7.90                &  36 months           & A                   \\\\\n",
       "\t 57126822             & 60829645             &  90000               & RENT                 & credit\\_card        & 18000                &  8.18                &  60 months           & B                   \\\\\n",
       "\t  1445209             &  1697667             &  90000               & MORTGAGE             & small\\_business     & 18000                &  7.62                &  36 months           & A                   \\\\\n",
       "\t 55078160             & 58648875             &  50000               & RENT                 & credit\\_card        & 10000                & 13.33                &  36 months           & C                   \\\\\n",
       "\\end{tabular}\n"
      ],
      "text/markdown": [
       "\n",
       "| id | member_id | annual_inc | home_ownership | purpose | loan_amnt | int_rate | term | grade |\n",
       "|---|---|---|---|---|---|---|---|---|\n",
       "| 63459002           | 67801839           | 131000             | MORTGAGE           | credit_card        | 35000              |  8.18              |  36 months         | B                  |\n",
       "|  2224979           |  2637150           | 125000             | MORTGAGE           | debt_consolidation | 29700              | 15.31              |  60 months         | C                  |\n",
       "|  5979460           |  7451906           |  36070             | MORTGAGE           | debt_consolidation |  6700              |  7.90              |  36 months         | A                  |\n",
       "| 57126822           | 60829645           |  90000             | RENT               | credit_card        | 18000              |  8.18              |  60 months         | B                  |\n",
       "|  1445209           |  1697667           |  90000             | MORTGAGE           | small_business     | 18000              |  7.62              |  36 months         | A                  |\n",
       "| 55078160           | 58648875           |  50000             | RENT               | credit_card        | 10000              | 13.33              |  36 months         | C                  |\n",
       "\n"
      ],
      "text/plain": [
       "  id       member_id annual_inc home_ownership purpose            loan_amnt\n",
       "1 63459002 67801839  131000     MORTGAGE       credit_card        35000    \n",
       "2  2224979  2637150  125000     MORTGAGE       debt_consolidation 29700    \n",
       "3  5979460  7451906   36070     MORTGAGE       debt_consolidation  6700    \n",
       "4 57126822 60829645   90000     RENT           credit_card        18000    \n",
       "5  1445209  1697667   90000     MORTGAGE       small_business     18000    \n",
       "6 55078160 58648875   50000     RENT           credit_card        10000    \n",
       "  int_rate term       grade\n",
       "1  8.18     36 months B    \n",
       "2 15.31     60 months C    \n",
       "3  7.90     36 months A    \n",
       "4  8.18     60 months B    \n",
       "5  7.62     36 months A    \n",
       "6 13.33     36 months C    "
      ]
     },
     "metadata": {},
     "output_type": "display_data"
    }
   ],
   "source": [
    "head(loans_df)"
   ]
  },
  {
   "cell_type": "markdown",
   "metadata": {},
   "source": [
    "a. Find the range of annual income"
   ]
  },
  {
   "cell_type": "code",
   "execution_count": 26,
   "metadata": {},
   "outputs": [
    {
     "data": {
      "text/html": [
       "<ol class=list-inline>\n",
       "\t<li>0</li>\n",
       "\t<li>2548000</li>\n",
       "</ol>\n"
      ],
      "text/latex": [
       "\\begin{enumerate*}\n",
       "\\item 0\n",
       "\\item 2548000\n",
       "\\end{enumerate*}\n"
      ],
      "text/markdown": [
       "1. 0\n",
       "2. 2548000\n",
       "\n",
       "\n"
      ],
      "text/plain": [
       "[1]       0 2548000"
      ]
     },
     "metadata": {},
     "output_type": "display_data"
    }
   ],
   "source": [
    "# Answer here \n",
    "range(loans_df$annual_inc)"
   ]
  },
  {
   "cell_type": "markdown",
   "metadata": {},
   "source": [
    "b. Find the unique labels for ```purpose``` variable"
   ]
  },
  {
   "cell_type": "code",
   "execution_count": 27,
   "metadata": {},
   "outputs": [
    {
     "data": {
      "text/html": [
       "<ol class=list-inline>\n",
       "\t<li>credit_card</li>\n",
       "\t<li>debt_consolidation</li>\n",
       "\t<li>small_business</li>\n",
       "\t<li>home_improvement</li>\n",
       "\t<li>car</li>\n",
       "\t<li>other</li>\n",
       "\t<li>medical</li>\n",
       "\t<li>major_purchase</li>\n",
       "\t<li>wedding</li>\n",
       "\t<li>vacation</li>\n",
       "\t<li>house</li>\n",
       "\t<li>moving</li>\n",
       "\t<li>renewable_energy</li>\n",
       "\t<li>educational</li>\n",
       "</ol>\n",
       "\n",
       "<details>\n",
       "\t<summary style=display:list-item;cursor:pointer>\n",
       "\t\t<strong>Levels</strong>:\n",
       "\t</summary>\n",
       "\t<ol class=list-inline>\n",
       "\t\t<li>'car'</li>\n",
       "\t\t<li>'credit_card'</li>\n",
       "\t\t<li>'debt_consolidation'</li>\n",
       "\t\t<li>'educational'</li>\n",
       "\t\t<li>'home_improvement'</li>\n",
       "\t\t<li>'house'</li>\n",
       "\t\t<li>'major_purchase'</li>\n",
       "\t\t<li>'medical'</li>\n",
       "\t\t<li>'moving'</li>\n",
       "\t\t<li>'other'</li>\n",
       "\t\t<li>'renewable_energy'</li>\n",
       "\t\t<li>'small_business'</li>\n",
       "\t\t<li>'vacation'</li>\n",
       "\t\t<li>'wedding'</li>\n",
       "\t</ol>\n",
       "</details>"
      ],
      "text/latex": [
       "\\begin{enumerate*}\n",
       "\\item credit\\_card\n",
       "\\item debt\\_consolidation\n",
       "\\item small\\_business\n",
       "\\item home\\_improvement\n",
       "\\item car\n",
       "\\item other\n",
       "\\item medical\n",
       "\\item major\\_purchase\n",
       "\\item wedding\n",
       "\\item vacation\n",
       "\\item house\n",
       "\\item moving\n",
       "\\item renewable\\_energy\n",
       "\\item educational\n",
       "\\end{enumerate*}\n",
       "\n",
       "\\emph{Levels}: \\begin{enumerate*}\n",
       "\\item 'car'\n",
       "\\item 'credit\\_card'\n",
       "\\item 'debt\\_consolidation'\n",
       "\\item 'educational'\n",
       "\\item 'home\\_improvement'\n",
       "\\item 'house'\n",
       "\\item 'major\\_purchase'\n",
       "\\item 'medical'\n",
       "\\item 'moving'\n",
       "\\item 'other'\n",
       "\\item 'renewable\\_energy'\n",
       "\\item 'small\\_business'\n",
       "\\item 'vacation'\n",
       "\\item 'wedding'\n",
       "\\end{enumerate*}\n"
      ],
      "text/markdown": [
       "1. credit_card\n",
       "2. debt_consolidation\n",
       "3. small_business\n",
       "4. home_improvement\n",
       "5. car\n",
       "6. other\n",
       "7. medical\n",
       "8. major_purchase\n",
       "9. wedding\n",
       "10. vacation\n",
       "11. house\n",
       "12. moving\n",
       "13. renewable_energy\n",
       "14. educational\n",
       "\n",
       "\n",
       "\n",
       "**Levels**: 1. 'car'\n",
       "2. 'credit_card'\n",
       "3. 'debt_consolidation'\n",
       "4. 'educational'\n",
       "5. 'home_improvement'\n",
       "6. 'house'\n",
       "7. 'major_purchase'\n",
       "8. 'medical'\n",
       "9. 'moving'\n",
       "10. 'other'\n",
       "11. 'renewable_energy'\n",
       "12. 'small_business'\n",
       "13. 'vacation'\n",
       "14. 'wedding'\n",
       "\n",
       "\n"
      ],
      "text/plain": [
       " [1] credit_card        debt_consolidation small_business     home_improvement  \n",
       " [5] car                other              medical            major_purchase    \n",
       " [9] wedding            vacation           house              moving            \n",
       "[13] renewable_energy   educational       \n",
       "14 Levels: car credit_card debt_consolidation educational ... wedding"
      ]
     },
     "metadata": {},
     "output_type": "display_data"
    }
   ],
   "source": [
    "# Answer here \n",
    "unique(loans_df$purpose)"
   ]
  },
  {
   "cell_type": "markdown",
   "metadata": {},
   "source": [
    "c. Get the summary of ```loans_df```"
   ]
  },
  {
   "cell_type": "code",
   "execution_count": 28,
   "metadata": {},
   "outputs": [
    {
     "data": {
      "text/plain": [
       "       id             member_id          annual_inc       home_ownership \n",
       " Min.   :   57245   Min.   :   98268   Min.   :      0   ANY     :    1  \n",
       " 1st Qu.: 9252315   1st Qu.:11030128   1st Qu.:  45000   MORTGAGE:12519  \n",
       " Median :34423708   Median :37086239   Median :  64000   NONE    :    2  \n",
       " Mean   :32487959   Mean   :35026396   Mean   :  74928   OTHER   :    1  \n",
       " 3rd Qu.:54931016   3rd Qu.:58484786   3rd Qu.:  90000   OWN     : 2531  \n",
       " Max.   :68616060   Max.   :73518868   Max.   :2548000   RENT    : 9946  \n",
       "                                                                         \n",
       "               purpose        loan_amnt        int_rate             term      \n",
       " debt_consolidation:14802   Min.   :  500   Min.   : 5.32    36 months:17566  \n",
       " credit_card       : 5805   1st Qu.: 8000   1st Qu.: 9.99    60 months: 7434  \n",
       " home_improvement  : 1398   Median :12838   Median :12.99                     \n",
       " other             : 1179   Mean   :14697   Mean   :13.23                     \n",
       " major_purchase    :  507   3rd Qu.:20000   3rd Qu.:16.20                     \n",
       " small_business    :  308   Max.   :35000   Max.   :28.99                     \n",
       " (Other)           : 1001                                                     \n",
       " grade   \n",
       " A:4172  \n",
       " B:7194  \n",
       " C:6953  \n",
       " D:3920  \n",
       " E:2005  \n",
       " F: 612  \n",
       " G: 144  "
      ]
     },
     "metadata": {},
     "output_type": "display_data"
    }
   ],
   "source": [
    "# Answer here \n",
    "summary(loans_df)"
   ]
  },
  {
   "cell_type": "markdown",
   "metadata": {},
   "source": [
    "d. Get the total number of observations and variables "
   ]
  },
  {
   "cell_type": "code",
   "execution_count": 29,
   "metadata": {},
   "outputs": [
    {
     "data": {
      "text/html": [
       "<ol class=list-inline>\n",
       "\t<li>25000</li>\n",
       "\t<li>9</li>\n",
       "</ol>\n"
      ],
      "text/latex": [
       "\\begin{enumerate*}\n",
       "\\item 25000\n",
       "\\item 9\n",
       "\\end{enumerate*}\n"
      ],
      "text/markdown": [
       "1. 25000\n",
       "2. 9\n",
       "\n",
       "\n"
      ],
      "text/plain": [
       "[1] 25000     9"
      ]
     },
     "metadata": {},
     "output_type": "display_data"
    }
   ],
   "source": [
    "# Answer here \n",
    "dim(loans_df)"
   ]
  },
  {
   "cell_type": "markdown",
   "metadata": {},
   "source": [
    "e. How many grades are there in total? "
   ]
  },
  {
   "cell_type": "code",
   "execution_count": 30,
   "metadata": {},
   "outputs": [
    {
     "data": {
      "text/html": [
       "<ol class=list-inline>\n",
       "\t<li>B</li>\n",
       "\t<li>C</li>\n",
       "\t<li>A</li>\n",
       "\t<li>D</li>\n",
       "\t<li>E</li>\n",
       "\t<li>F</li>\n",
       "\t<li>G</li>\n",
       "</ol>\n",
       "\n",
       "<details>\n",
       "\t<summary style=display:list-item;cursor:pointer>\n",
       "\t\t<strong>Levels</strong>:\n",
       "\t</summary>\n",
       "\t<ol class=list-inline>\n",
       "\t\t<li>'A'</li>\n",
       "\t\t<li>'B'</li>\n",
       "\t\t<li>'C'</li>\n",
       "\t\t<li>'D'</li>\n",
       "\t\t<li>'E'</li>\n",
       "\t\t<li>'F'</li>\n",
       "\t\t<li>'G'</li>\n",
       "\t</ol>\n",
       "</details>"
      ],
      "text/latex": [
       "\\begin{enumerate*}\n",
       "\\item B\n",
       "\\item C\n",
       "\\item A\n",
       "\\item D\n",
       "\\item E\n",
       "\\item F\n",
       "\\item G\n",
       "\\end{enumerate*}\n",
       "\n",
       "\\emph{Levels}: \\begin{enumerate*}\n",
       "\\item 'A'\n",
       "\\item 'B'\n",
       "\\item 'C'\n",
       "\\item 'D'\n",
       "\\item 'E'\n",
       "\\item 'F'\n",
       "\\item 'G'\n",
       "\\end{enumerate*}\n"
      ],
      "text/markdown": [
       "1. B\n",
       "2. C\n",
       "3. A\n",
       "4. D\n",
       "5. E\n",
       "6. F\n",
       "7. G\n",
       "\n",
       "\n",
       "\n",
       "**Levels**: 1. 'A'\n",
       "2. 'B'\n",
       "3. 'C'\n",
       "4. 'D'\n",
       "5. 'E'\n",
       "6. 'F'\n",
       "7. 'G'\n",
       "\n",
       "\n"
      ],
      "text/plain": [
       "[1] B C A D E F G\n",
       "Levels: A B C D E F G"
      ]
     },
     "metadata": {},
     "output_type": "display_data"
    }
   ],
   "source": [
    "# Answer here \n",
    "unique(loans_df$grade)"
   ]
  },
  {
   "cell_type": "markdown",
   "metadata": {},
   "source": [
    "## [Back to top](#Contents) "
   ]
  }
 ],
 "metadata": {
  "kernelspec": {
   "display_name": "R",
   "language": "R",
   "name": "ir"
  },
  "language_info": {
   "codemirror_mode": "r",
   "file_extension": ".r",
   "mimetype": "text/x-r-source",
   "name": "R",
   "pygments_lexer": "r",
   "version": "3.6.1"
  }
 },
 "nbformat": 4,
 "nbformat_minor": 2
}
