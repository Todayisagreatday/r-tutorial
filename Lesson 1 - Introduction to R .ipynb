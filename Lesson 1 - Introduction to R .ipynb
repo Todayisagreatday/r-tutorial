{
 "cells": [
  {
   "cell_type": "markdown",
   "metadata": {},
   "source": [
    "# Introduction to R"
   ]
  },
  {
   "cell_type": "markdown",
   "metadata": {},
   "source": [
    "<img src=\"https://i.imgur.com/HeSzToG.png\" width=400 align=\"center\">"
   ]
  },
  {
   "cell_type": "markdown",
   "metadata": {},
   "source": [
    "# Contents\n",
    "1. CRISP DM\n",
    "2. What is R used for? \n",
    "3. Downloading Anaconda \n",
    "4. IDEs for R \n",
    "5. Basics of Jupyter Notebook\n",
    "6. File Types \n",
    "7. Data Terminology\n",
    "8. Installing and adding packages \n",
    "9. Importing Data \n",
    "10. Displaying Data "
   ]
  },
  {
   "cell_type": "markdown",
   "metadata": {},
   "source": [
    "## 1. CRISP DM \n"
   ]
  },
  {
   "cell_type": "markdown",
   "metadata": {},
   "source": [
    "<img src='https://st3.ning.com/topology/rest/1.0/file/get/2808314343?profile=original' width=400 align = 'center'>"
   ]
  },
  {
   "cell_type": "markdown",
   "metadata": {},
   "source": [
    "<p style=\"text-align:center;\"><font size=\"2\"> <i>A useful codification of the data mining process is given by the Cross Industry Standard Process for Data Mining\n",
    "(CRISP-DM; Shearer, 2000)</i> </font> </p>"
   ]
  },
  {
   "cell_type": "markdown",
   "metadata": {},
   "source": [
    "- <b>Business Understanding</b> <br> \n",
    " - Framing a business problem in terms of expected value can allow us to systematically decompose it into data mining tasks. \n",
    "- <b>Data Understanding</b> <br> \n",
    " - Understanding the strengths and limitations of the data because there is rarely an exact match with the problem <br>\n",
    " - Purchasing or obtaining data <br>\n",
    " - Identifying and understanding variables to use \n",
    "- <b>Data Preparation</b> <br> \n",
    " - Removing missing values\n",
    " - Sorting, replacing, filtering, grouping, mapping data\n",
    " - Adding variables from other datasets \n",
    "- <b>Modeling</b> <br>\n",
    " - Machine Learning\n",
    "- <b>Evaluation</b> <br> \n",
    " - Assessing the data mining results rigorously to gain confidence that they are valid and reliable\n",
    "- <b>Deployment</b> <br> \n",
    " - Implementing the model into the business process"
   ]
  },
  {
   "cell_type": "code",
   "execution_count": null,
   "metadata": {},
   "outputs": [],
   "source": [
    "library(datasets)\n",
    "library(help = \"datasets\")"
   ]
  },
  {
   "cell_type": "code",
   "execution_count": null,
   "metadata": {},
   "outputs": [],
   "source": [
    "str(iris)"
   ]
  },
  {
   "cell_type": "markdown",
   "metadata": {},
   "source": [
    "# 2. What is R used for? "
   ]
  },
  {
   "cell_type": "code",
   "execution_count": null,
   "metadata": {},
   "outputs": [],
   "source": [
    "# Notes \n",
    "# Data cleaning \n",
    "# Modeling \n",
    "# Comparison to Python "
   ]
  },
  {
   "cell_type": "markdown",
   "metadata": {},
   "source": [
    "\n",
    "#  3. Downloading Anaconda"
   ]
  },
  {
   "cell_type": "markdown",
   "metadata": {},
   "source": [
    "- Downloading Anaconda <br> \n",
    "https://www.anaconda.com/distribution/ <br>\n",
    "- Adding R into Anaconda <br> \n",
    "https://docs.anaconda.com/anaconda/navigator/tutorials/r-lang/"
   ]
  },
  {
   "cell_type": "markdown",
   "metadata": {},
   "source": [
    "# 4. Comparison between Python & R"
   ]
  },
  {
   "cell_type": "markdown",
   "metadata": {},
   "source": [
    "| Parameter | R | Python | \n",
    "|------|:------|:------|\n",
    "| Objective | Data Analysis and Statistical Modeling | Data Science, Web Development, Embedded Systems |\n",
    "| Workability | Consist of many easy to use packages | Can easily perform matrix computation as well as optimization | \n",
    "| Integration | Locally run programs | Programs integrated with web-app for easy deployment | \n",
    "| Database Handling Capacity | Poses problem for handling large dataset | Can handle large data easily without any fault | \n",
    "| IDE | RStudio, R GUI | Spyder, IPython, Juypter Notebook | \n",
    "| Essential Packages and library | ggplot2, tidyverse, caret | Numpy, pandas, scipy, scikit-learn, Tensorflow | "
   ]
  },
  {
   "cell_type": "markdown",
   "metadata": {},
   "source": [
    "# 5. Basics of Juypter Notebook"
   ]
  },
  {
   "cell_type": "markdown",
   "metadata": {},
   "source": [
    "- <b>Restarting Kernel </b> \n",
    " - Kernel > Restart \n",
    "- <b>Running cells </b>\n",
    " - Cell > Run All \n",
    "- <b>Code vs. Markdown </b>\n",
    " - Markdown has its roots in HTML \n",
    " - Markdown is for formatting and commenting "
   ]
  },
  {
   "cell_type": "markdown",
   "metadata": {},
   "source": [
    "| Shortcut | Description |\n",
    "|------|:------|\n",
    "| Tab | Code Completion |\n",
    "| a | Insert cell above |\n",
    "| b | Insert cell below |\n",
    "| Enter | Edit cell |\n",
    "| d + d | Delete cell | \n",
    "| Shift + Enter | Run individual cell | \n",
    "| Esc + M | Change to Markdown | \n",
    "| Ctrl + Shift + ← | Highlight group of words | \n",
    "| Ctrl + Backspace | Delete word by word | \n",
    "| Ctrl + / | Make comment |"
   ]
  },
  {
   "cell_type": "code",
   "execution_count": null,
   "metadata": {},
   "outputs": [],
   "source": [
    "# Test box "
   ]
  },
  {
   "cell_type": "markdown",
   "metadata": {},
   "source": [
    "# Header 1 \n",
    "## Header 2 \n",
    "### Header 3 \n",
    "#### Header 4 \n",
    "<b> bold text </b> <br> \n",
    "<i> italicized text </i> <br> \n",
    "<br> newline <br>\n",
    "- bullet point <br> \n",
    "\n",
    "<p> Lorem ipsum dolor sit amet, consectetur adipiscing elit, sed do eiusmod tempor incididunt ut labore et dolore magna aliqua. In ante metus dictum at tempor commodo ullamcorper a lacus. Lorem mollis aliquam ut porttitor leo a diam. Neque aliquam vestibulum morbi blandit cursus. Nunc faucibus a pellentesque sit amet porttitor. Id semper risus in hendrerit gravida rutrum quisque non tellus. Proin nibh nisl condimentum id venenatis a condimentum vitae sapien. Aliquet nec ullamcorper sit amet risus nullam eget. Augue eget arcu dictum varius. Donec ac odio tempor orci dapibus ultrices in iaculis. Diam sit amet nisl suscipit adipiscing bibendum est ultricies integer. </p> <p> Leo duis ut diam quam nulla. Tellus at urna condimentum mattis pellentesque id nibh. Proin fermentum leo vel orci. Mi sit amet mauris commodo quis imperdiet massa tincidunt nunc. Venenatis cras sed felis eget velit aliquet sagittis id consectetur. Fringilla urna porttitor rhoncus dolor purus non enim praesent. Consectetur purus ut faucibus pulvinar elementum integer enim neque. Ullamcorper malesuada proin libero nunc consequat interdum varius sit amet. Nibh praesent tristique magna sit amet purus. Egestas maecenas pharetra convallis posuere. Sed faucibus turpis in eu mi bibendum neque egestas. Pharetra diam sit amet nisl suscipit. Sed pulvinar proin gravida hendrerit. Risus at ultrices mi tempus imperdiet nulla malesuada pellentesque elit. Malesuada bibendum arcu vitae elementum curabitur. Cursus mattis molestie a iaculis at erat pellentesque. Pellentesque sit amet porttitor eget dolor morbi non. Lacus suspendisse faucibus interdum posuere lorem ipsum dolor sit. Tempor nec feugiat nisl pretium fusce id velit. Viverra justo nec ultrices dui sapien eget mi proin. </p> "
   ]
  },
  {
   "cell_type": "markdown",
   "metadata": {},
   "source": [
    "## Exercise 1: Using Markdown "
   ]
  },
  {
   "cell_type": "markdown",
   "metadata": {},
   "source": [
    "Format the below text using Markdown "
   ]
  },
  {
   "cell_type": "code",
   "execution_count": null,
   "metadata": {},
   "outputs": [],
   "source": [
    "RStudio is an integrated development environment (IDE) that streamlines the R programming workflow into an easy to read layout. RStudio also includes useful tools (referred to as packages) for data manipulation (dplyr), cleaning (tidyr), visualizations (ggplot2), report writing (rmarkdown & knitr), and publishing to the web (shiny & ggviz)."
   ]
  },
  {
   "cell_type": "markdown",
   "metadata": {},
   "source": [
    "# 6. File Types"
   ]
  },
  {
   "cell_type": "markdown",
   "metadata": {},
   "source": [
    "- comma separated values (.csv)\n",
    "- rdata. \n",
    "- Microsoft Excel Open XML Spreadsheet (.xlsx)"
   ]
  },
  {
   "cell_type": "markdown",
   "metadata": {},
   "source": [
    "# 7. Data Terminology"
   ]
  },
  {
   "cell_type": "markdown",
   "metadata": {},
   "source": [
    "https://swcarpentry.github.io/r-novice-inflammation/13-supp-data-structures/"
   ]
  },
  {
   "cell_type": "markdown",
   "metadata": {},
   "source": [
    "- Data > Dataset > Database \n",
    "- Vector > List > DataFrame  \n",
    "- Observations & Variables\n",
    "- Levels \n",
    "- Libraries / Packages "
   ]
  },
  {
   "cell_type": "markdown",
   "metadata": {},
   "source": [
    "## Exercise 2: Creating vectors "
   ]
  },
  {
   "cell_type": "markdown",
   "metadata": {},
   "source": [
    "Create a vector with 2 elements A and B and store in ```grade``` "
   ]
  },
  {
   "cell_type": "code",
   "execution_count": null,
   "metadata": {},
   "outputs": [],
   "source": [
    "# Answer here\n",
    "# After part 10 then back here"
   ]
  },
  {
   "cell_type": "markdown",
   "metadata": {},
   "source": [
    "# 8. Installing and adding packages"
   ]
  },
  {
   "cell_type": "code",
   "execution_count": null,
   "metadata": {},
   "outputs": [],
   "source": [
    "install.packages('something')"
   ]
  },
  {
   "cell_type": "code",
   "execution_count": null,
   "metadata": {},
   "outputs": [],
   "source": [
    "library(something)"
   ]
  },
  {
   "cell_type": "markdown",
   "metadata": {},
   "source": [
    "## Exercise 3: Importing packages "
   ]
  },
  {
   "cell_type": "markdown",
   "metadata": {},
   "source": [
    "Import dplyr, tidyr, ggplot "
   ]
  },
  {
   "cell_type": "code",
   "execution_count": null,
   "metadata": {},
   "outputs": [],
   "source": [
    "# Answer here"
   ]
  },
  {
   "cell_type": "code",
   "execution_count": null,
   "metadata": {},
   "outputs": [],
   "source": [
    "library(dplyr)"
   ]
  },
  {
   "cell_type": "markdown",
   "metadata": {},
   "source": [
    "# 9. Reading documentation"
   ]
  },
  {
   "cell_type": "markdown",
   "metadata": {},
   "source": [
    "https://www.rdocumentation.org/packages/readxl/versions/1.3.1/topics/read_excel"
   ]
  },
  {
   "cell_type": "markdown",
   "metadata": {},
   "source": [
    "- Default values \n",
    "- Checking the package name \n",
    "- Importing package"
   ]
  },
  {
   "cell_type": "code",
   "execution_count": null,
   "metadata": {},
   "outputs": [],
   "source": [
    "# Import relevant package here "
   ]
  },
  {
   "cell_type": "markdown",
   "metadata": {},
   "source": [
    "# 10. Importing Data "
   ]
  },
  {
   "cell_type": "markdown",
   "metadata": {},
   "source": [
    "| Function | What it does | Example | \n",
    "|------|:------|:------|\n",
    "| read.csv() | Read csv file | read.csv('states.csv') |\n",
    "| read_excel() | Read excel file | read_excel('filename.xlsx', sheet = 'Sheet 2') | "
   ]
  },
  {
   "cell_type": "markdown",
   "metadata": {},
   "source": [
    "## Exercise 4: Import csv file"
   ]
  },
  {
   "cell_type": "markdown",
   "metadata": {},
   "source": [
    "Import ```loans-25k.csv``` and store in ```loans_df```"
   ]
  },
  {
   "cell_type": "code",
   "execution_count": null,
   "metadata": {},
   "outputs": [],
   "source": [
    "# Explain location and backslash \n",
    "# Store in variable \n",
    "\n",
    "# Answer here"
   ]
  },
  {
   "cell_type": "markdown",
   "metadata": {},
   "source": [
    "Display the head of ```loans_df```"
   ]
  },
  {
   "cell_type": "markdown",
   "metadata": {},
   "source": [
    "## Exercise 5: Import excel file "
   ]
  },
  {
   "cell_type": "code",
   "execution_count": null,
   "metadata": {},
   "outputs": [],
   "source": [
    "# Answer here "
   ]
  },
  {
   "cell_type": "markdown",
   "metadata": {},
   "source": [
    "# 11. Displaying Data"
   ]
  },
  {
   "cell_type": "markdown",
   "metadata": {},
   "source": [
    "Checking data type of each column and shape of column"
   ]
  },
  {
   "cell_type": "code",
   "execution_count": null,
   "metadata": {},
   "outputs": [],
   "source": [
    "# str"
   ]
  },
  {
   "cell_type": "markdown",
   "metadata": {},
   "source": [
    "Better version of str() from dplyr"
   ]
  },
  {
   "cell_type": "code",
   "execution_count": null,
   "metadata": {},
   "outputs": [],
   "source": [
    "# glimpse"
   ]
  },
  {
   "cell_type": "markdown",
   "metadata": {},
   "source": [
    "Summary of dataset "
   ]
  },
  {
   "cell_type": "code",
   "execution_count": null,
   "metadata": {},
   "outputs": [],
   "source": [
    "# summary"
   ]
  },
  {
   "cell_type": "markdown",
   "metadata": {},
   "source": [
    "Checking shape of dataframe"
   ]
  },
  {
   "cell_type": "code",
   "execution_count": null,
   "metadata": {},
   "outputs": [],
   "source": [
    "# dim"
   ]
  },
  {
   "cell_type": "markdown",
   "metadata": {},
   "source": [
    "Showing dataset"
   ]
  },
  {
   "cell_type": "code",
   "execution_count": null,
   "metadata": {},
   "outputs": [],
   "source": []
  },
  {
   "cell_type": "markdown",
   "metadata": {},
   "source": [
    "Showing full dataset"
   ]
  },
  {
   "cell_type": "code",
   "execution_count": null,
   "metadata": {},
   "outputs": [],
   "source": [
    "# Set max no. to be high\n",
    "options(max.print=25000) \n",
    "print.data.frame(iris)"
   ]
  },
  {
   "cell_type": "markdown",
   "metadata": {},
   "source": [
    "Showing first few values of dataset"
   ]
  },
  {
   "cell_type": "code",
   "execution_count": null,
   "metadata": {},
   "outputs": [],
   "source": [
    "# head and tail"
   ]
  },
  {
   "cell_type": "markdown",
   "metadata": {},
   "source": [
    "Looking at range of data "
   ]
  },
  {
   "cell_type": "code",
   "execution_count": null,
   "metadata": {},
   "outputs": [],
   "source": [
    "# max\n",
    "\n",
    "# min\n",
    "\n",
    "# unique\n",
    "\n",
    "# n_distinct"
   ]
  },
  {
   "cell_type": "markdown",
   "metadata": {},
   "source": [
    "## Exercise 6: Looking at loans dataframe"
   ]
  },
  {
   "cell_type": "code",
   "execution_count": null,
   "metadata": {},
   "outputs": [],
   "source": [
    "# head(loans_df)"
   ]
  },
  {
   "cell_type": "markdown",
   "metadata": {},
   "source": [
    "a. Find the range of annual income"
   ]
  },
  {
   "cell_type": "code",
   "execution_count": null,
   "metadata": {},
   "outputs": [],
   "source": [
    "# Answer here "
   ]
  },
  {
   "cell_type": "markdown",
   "metadata": {},
   "source": [
    "b. Find the unique labels for ```purpose``` variable"
   ]
  },
  {
   "cell_type": "code",
   "execution_count": null,
   "metadata": {},
   "outputs": [],
   "source": [
    "# Answer here "
   ]
  },
  {
   "cell_type": "markdown",
   "metadata": {},
   "source": [
    "c. Get the summary of ```loans_df```"
   ]
  },
  {
   "cell_type": "code",
   "execution_count": null,
   "metadata": {},
   "outputs": [],
   "source": [
    "# Answer here "
   ]
  },
  {
   "cell_type": "markdown",
   "metadata": {},
   "source": [
    "d. Get the total number of observations and variables "
   ]
  },
  {
   "cell_type": "code",
   "execution_count": null,
   "metadata": {},
   "outputs": [],
   "source": [
    "# Answer here "
   ]
  },
  {
   "cell_type": "markdown",
   "metadata": {},
   "source": [
    "e. How many grades are there in total? "
   ]
  },
  {
   "cell_type": "code",
   "execution_count": null,
   "metadata": {},
   "outputs": [],
   "source": [
    "# Answer here "
   ]
  },
  {
   "cell_type": "markdown",
   "metadata": {},
   "source": [
    "## [Back to top](#Contents) "
   ]
  }
 ],
 "metadata": {
  "kernelspec": {
   "display_name": "R",
   "language": "R",
   "name": "ir"
  },
  "language_info": {
   "codemirror_mode": "r",
   "file_extension": ".r",
   "mimetype": "text/x-r-source",
   "name": "R",
   "pygments_lexer": "r",
   "version": "3.6.1"
  }
 },
 "nbformat": 4,
 "nbformat_minor": 2
}
